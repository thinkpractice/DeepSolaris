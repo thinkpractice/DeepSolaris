{
 "cells": [
  {
   "cell_type": "code",
   "execution_count": 1,
   "metadata": {},
   "outputs": [],
   "source": [
    "import csv\n",
    "from ProjectPaths import ProjectPaths\n",
    "from DirectoryFilter import DirectoryFilter\n",
    "import numpy as np"
   ]
  },
  {
   "cell_type": "code",
   "execution_count": 2,
   "metadata": {},
   "outputs": [],
   "source": [
    "with open(\"pv2017.csv\") as csvFile:\n",
    "    csv_reader = csv.DictReader(csvFile)\n",
    "    pv_locations = [row for row in csv_reader]"
   ]
  },
  {
   "cell_type": "code",
   "execution_count": 3,
   "metadata": {},
   "outputs": [
    {
     "data": {
      "text/plain": [
       "OrderedDict([('tile_id', '277419'),\n",
       "             ('pv_id', '339110'),\n",
       "             ('year_in_use', '2016'),\n",
       "             ('date_in_use', '2016-09-22'),\n",
       "             ('uuid', '07ad63ea-3565-4f99-91f4-6132d6a8d14c')])"
      ]
     },
     "execution_count": 3,
     "metadata": {},
     "output_type": "execute_result"
    }
   ],
   "source": [
    "pv_locations[0]"
   ]
  },
  {
   "cell_type": "code",
   "execution_count": 4,
   "metadata": {},
   "outputs": [],
   "source": [
    "import os\n",
    "\n",
    "tiles_dir = os.path.join(ProjectPaths.instance().image_dir, \"Tiles\")\n",
    "directoryFilter = DirectoryFilter(root_path=tiles_dir)"
   ]
  },
  {
   "cell_type": "code",
   "execution_count": 10,
   "metadata": {},
   "outputs": [
    {
     "data": {
      "text/plain": [
       "{'1996',\n",
       " '1997',\n",
       " '1998',\n",
       " '1999',\n",
       " '2000',\n",
       " '2001',\n",
       " '2002',\n",
       " '2003',\n",
       " '2004',\n",
       " '2006',\n",
       " '2007',\n",
       " '2008',\n",
       " '2009',\n",
       " '2010',\n",
       " '2011',\n",
       " '2012',\n",
       " '2013',\n",
       " '2014',\n",
       " '2015',\n",
       " '2016',\n",
       " '2017'}"
      ]
     },
     "execution_count": 10,
     "metadata": {},
     "output_type": "execute_result"
    }
   ],
   "source": [
    "available_years = {location[\"year_in_use\"] for location in pv_locations}\n",
    "available_years"
   ]
  },
  {
   "cell_type": "code",
   "execution_count": 5,
   "metadata": {},
   "outputs": [],
   "source": [
    "years = range(2013, 2019)"
   ]
  },
  {
   "cell_type": "code",
   "execution_count": 70,
   "metadata": {},
   "outputs": [],
   "source": [
    "pv_locations_per_year = {year : [row for row in pv_locations if int(row[\"year_in_use\"]) <= year] for year in years}"
   ]
  },
  {
   "cell_type": "code",
   "execution_count": 71,
   "metadata": {},
   "outputs": [
    {
     "data": {
      "text/plain": [
       "5788"
      ]
     },
     "execution_count": 71,
     "metadata": {},
     "output_type": "execute_result"
    }
   ],
   "source": [
    "len(pv_locations_per_year[2018])"
   ]
  },
  {
   "cell_type": "code",
   "execution_count": 13,
   "metadata": {},
   "outputs": [],
   "source": [
    "import matplotlib.pyplot as plt\n",
    "%matplotlib inline"
   ]
  },
  {
   "cell_type": "code",
   "execution_count": 14,
   "metadata": {},
   "outputs": [
    {
     "data": {
      "text/plain": [
       "<BarContainer object of 6 artists>"
      ]
     },
     "execution_count": 14,
     "metadata": {},
     "output_type": "execute_result"
    },
    {
     "data": {
      "image/png": "[encoded data removed]",
      "text/plain": [
       "<Figure size 432x288 with 1 Axes>"
      ]
     },
     "metadata": {
      "needs_background": "light"
     },
     "output_type": "display_data"
    }
   ],
   "source": [
    "panels_per_year = np.array([len(pv_locations_per_year[year]) for year in years])\n",
    "\n",
    "plt.bar(years, panels_per_year)"
   ]
  },
  {
   "cell_type": "code",
   "execution_count": 15,
   "metadata": {},
   "outputs": [
    {
     "data": {
      "text/plain": [
       "['/home/tdjg/Documents/DeepSolaris/Images/Tiles/2013/00001900-3f87-4a57-8e1a-8fbdf3127213_rgb_2013.tiff',\n",
       " '/home/tdjg/Documents/DeepSolaris/Images/Tiles/2013/00023872-f873-4889-9b80-113677b9e86a_rgb_2013.tiff',\n",
       " '/home/tdjg/Documents/DeepSolaris/Images/Tiles/2013/00024a4c-54fe-4d74-838b-20b8ee7f4777_rgb_2013.tiff',\n",
       " '/home/tdjg/Documents/DeepSolaris/Images/Tiles/2013/00031d78-fd98-4371-ac7f-8f2ddf487021_rgb_2013.tiff',\n",
       " '/home/tdjg/Documents/DeepSolaris/Images/Tiles/2013/00036fd4-14a1-49a4-ae79-feaa26847d61_rgb_2013.tiff',\n",
       " '/home/tdjg/Documents/DeepSolaris/Images/Tiles/2013/0003f83d-6e5b-4413-ac6b-d941996d3390_rgb_2013.tiff',\n",
       " '/home/tdjg/Documents/DeepSolaris/Images/Tiles/2013/000469da-f33d-4f43-816d-9fe2c50b2e45_rgb_2013.tiff',\n",
       " '/home/tdjg/Documents/DeepSolaris/Images/Tiles/2013/0004a6c7-799b-438e-bb3d-db24d7a58eba_rgb_2013.tiff',\n",
       " '/home/tdjg/Documents/DeepSolaris/Images/Tiles/2013/00051b1f-4030-4eee-a4c2-1fd84fb558fb_rgb_2013.tiff',\n",
       " '/home/tdjg/Documents/DeepSolaris/Images/Tiles/2013/0005eb2b-aedc-4f3e-adb9-d64bae29a781_rgb_2013.tiff']"
      ]
     },
     "execution_count": 15,
     "metadata": {},
     "output_type": "execute_result"
    }
   ],
   "source": [
    "rgb_picture_filenames = {year : directoryFilter.dir(str(year)).rgb.images.paths for year in years}\n",
    "rgb_picture_filenames[2013][:10]"
   ]
  },
  {
   "cell_type": "code",
   "execution_count": 17,
   "metadata": {},
   "outputs": [
    {
     "data": {
      "text/plain": [
       "['/home/tdjg/Documents/DeepSolaris/Images/Tiles/2013/00001900-3f87-4a57-8e1a-8fbdf3127213_ir_2013.tiff',\n",
       " '/home/tdjg/Documents/DeepSolaris/Images/Tiles/2013/00023872-f873-4889-9b80-113677b9e86a_ir_2013.tiff',\n",
       " '/home/tdjg/Documents/DeepSolaris/Images/Tiles/2013/00024a4c-54fe-4d74-838b-20b8ee7f4777_ir_2013.tiff',\n",
       " '/home/tdjg/Documents/DeepSolaris/Images/Tiles/2013/00031d78-fd98-4371-ac7f-8f2ddf487021_ir_2013.tiff',\n",
       " '/home/tdjg/Documents/DeepSolaris/Images/Tiles/2013/00036fd4-14a1-49a4-ae79-feaa26847d61_ir_2013.tiff',\n",
       " '/home/tdjg/Documents/DeepSolaris/Images/Tiles/2013/0003f83d-6e5b-4413-ac6b-d941996d3390_ir_2013.tiff',\n",
       " '/home/tdjg/Documents/DeepSolaris/Images/Tiles/2013/000469da-f33d-4f43-816d-9fe2c50b2e45_ir_2013.tiff',\n",
       " '/home/tdjg/Documents/DeepSolaris/Images/Tiles/2013/0004a6c7-799b-438e-bb3d-db24d7a58eba_ir_2013.tiff',\n",
       " '/home/tdjg/Documents/DeepSolaris/Images/Tiles/2013/00051b1f-4030-4eee-a4c2-1fd84fb558fb_ir_2013.tiff',\n",
       " '/home/tdjg/Documents/DeepSolaris/Images/Tiles/2013/0005eb2b-aedc-4f3e-adb9-d64bae29a781_ir_2013.tiff']"
      ]
     },
     "execution_count": 17,
     "metadata": {},
     "output_type": "execute_result"
    }
   ],
   "source": [
    "ir_picture_filenames = {year : directoryFilter.dir(str(year)).ir.images.paths for year in years}\n",
    "ir_picture_filenames[2013][:10]"
   ]
  },
  {
   "cell_type": "code",
   "execution_count": 18,
   "metadata": {},
   "outputs": [
    {
     "data": {
      "text/plain": [
       "['/home/tdjg/Documents/DeepSolaris/Images/Tiles/2013/00001900-3f87-4a57-8e1a-8fbdf3127213_ir_2013.tiff',\n",
       " '/home/tdjg/Documents/DeepSolaris/Images/Tiles/2013/00001900-3f87-4a57-8e1a-8fbdf3127213_rgb_2013.tiff',\n",
       " '/home/tdjg/Documents/DeepSolaris/Images/Tiles/2013/00023872-f873-4889-9b80-113677b9e86a_ir_2013.tiff',\n",
       " '/home/tdjg/Documents/DeepSolaris/Images/Tiles/2013/00023872-f873-4889-9b80-113677b9e86a_rgb_2013.tiff',\n",
       " '/home/tdjg/Documents/DeepSolaris/Images/Tiles/2013/00024a4c-54fe-4d74-838b-20b8ee7f4777_ir_2013.tiff',\n",
       " '/home/tdjg/Documents/DeepSolaris/Images/Tiles/2013/00024a4c-54fe-4d74-838b-20b8ee7f4777_rgb_2013.tiff',\n",
       " '/home/tdjg/Documents/DeepSolaris/Images/Tiles/2013/00031d78-fd98-4371-ac7f-8f2ddf487021_ir_2013.tiff',\n",
       " '/home/tdjg/Documents/DeepSolaris/Images/Tiles/2013/00031d78-fd98-4371-ac7f-8f2ddf487021_rgb_2013.tiff',\n",
       " '/home/tdjg/Documents/DeepSolaris/Images/Tiles/2013/00036fd4-14a1-49a4-ae79-feaa26847d61_ir_2013.tiff',\n",
       " '/home/tdjg/Documents/DeepSolaris/Images/Tiles/2013/00036fd4-14a1-49a4-ae79-feaa26847d61_rgb_2013.tiff']"
      ]
     },
     "execution_count": 18,
     "metadata": {},
     "output_type": "execute_result"
    }
   ],
   "source": [
    "picture_filenames = {year : sorted(rgb_picture_filenames[year] + ir_picture_filenames[year]) for year in years}\n",
    "picture_filenames[2013][:10]"
   ]
  },
  {
   "cell_type": "code",
   "execution_count": 36,
   "metadata": {},
   "outputs": [
    {
     "data": {
      "text/plain": [
       "175034"
      ]
     },
     "execution_count": 36,
     "metadata": {},
     "output_type": "execute_result"
    }
   ],
   "source": [
    "len(picture_filenames[2013])"
   ]
  },
  {
   "cell_type": "code",
   "execution_count": 73,
   "metadata": {},
   "outputs": [
    {
     "data": {
      "text/plain": [
       "['da205b9c-426b-4758-aa91-04469a1469ef',\n",
       " '87484c2d-e534-412f-b2d2-1d0999b783b0',\n",
       " '12c53d38-5b1e-4011-899a-e7f7baa9b8aa',\n",
       " '42afa621-3c56-429c-857d-54d1bda9a01e',\n",
       " '9f11218d-c9eb-4a4b-9134-a342c2bb6d60',\n",
       " '5de28949-03da-424c-baab-678b82e2096f',\n",
       " '6f03a723-3729-42f9-b34b-c81776a1d877',\n",
       " '00213a7d-3932-4e5b-ae0d-76549c77460d',\n",
       " '2a7df421-a817-4a05-94f9-fc51efdca75b',\n",
       " 'edcbd528-76e4-42c6-a169-fd007447fccf']"
      ]
     },
     "execution_count": 73,
     "metadata": {},
     "output_type": "execute_result"
    }
   ],
   "source": [
    "uuids_per_year = {year : list({location[\"uuid\"] for location in pv_locations_per_year[year]}) for year in years }\n",
    "uuids_per_year[2013][:10]"
   ]
  },
  {
   "cell_type": "code",
   "execution_count": 74,
   "metadata": {},
   "outputs": [
    {
     "data": {
      "text/plain": [
       "[(2013, 1234),\n",
       " (2014, 1614),\n",
       " (2015, 2552),\n",
       " (2016, 3306),\n",
       " (2017, 5090),\n",
       " (2018, 5090)]"
      ]
     },
     "execution_count": 74,
     "metadata": {},
     "output_type": "execute_result"
    }
   ],
   "source": [
    "uuid_counts = [(year, len(files)) for year, files in uuids_per_year.items()]\n",
    "uuid_counts"
   ]
  },
  {
   "cell_type": "code",
   "execution_count": 75,
   "metadata": {},
   "outputs": [],
   "source": [
    "def extract_uuid(path): \n",
    "    filename = os.path.basename(path)\n",
    "    return filename[:36]"
   ]
  },
  {
   "cell_type": "code",
   "execution_count": 76,
   "metadata": {},
   "outputs": [
    {
     "data": {
      "text/plain": [
       "'00001900-3f87-4a57-8e1a-8fbdf3127213'"
      ]
     },
     "execution_count": 76,
     "metadata": {},
     "output_type": "execute_result"
    }
   ],
   "source": [
    "extract_uuid(picture_filenames[2013][0])"
   ]
  },
  {
   "cell_type": "code",
   "execution_count": 77,
   "metadata": {},
   "outputs": [
    {
     "data": {
      "text/plain": [
       "['00001900-3f87-4a57-8e1a-8fbdf3127213',\n",
       " '00023872-f873-4889-9b80-113677b9e86a',\n",
       " '00024a4c-54fe-4d74-838b-20b8ee7f4777',\n",
       " '00031d78-fd98-4371-ac7f-8f2ddf487021',\n",
       " '00036fd4-14a1-49a4-ae79-feaa26847d61',\n",
       " '0003f83d-6e5b-4413-ac6b-d941996d3390',\n",
       " '000469da-f33d-4f43-816d-9fe2c50b2e45',\n",
       " '0004a6c7-799b-438e-bb3d-db24d7a58eba',\n",
       " '00051b1f-4030-4eee-a4c2-1fd84fb558fb',\n",
       " '0005eb2b-aedc-4f3e-adb9-d64bae29a781']"
      ]
     },
     "execution_count": 77,
     "metadata": {},
     "output_type": "execute_result"
    }
   ],
   "source": [
    "uuid_from_filenames = {year: [extract_uuid(filename) for filename in rgb_picture_filenames[year]] for year in years}\n",
    "uuid_from_filenames[2013][:10]"
   ]
  },
  {
   "cell_type": "code",
   "execution_count": 54,
   "metadata": {},
   "outputs": [
    {
     "data": {
      "text/plain": [
       "[]"
      ]
     },
     "execution_count": 54,
     "metadata": {},
     "output_type": "execute_result"
    }
   ],
   "source": [
    "uuid_not_in_list = {year: [uuid for uuid in uuids_per_year[year] if uuid not in set(uuid_from_filenames[year])] for year in years}\n",
    "uuid_not_in_list[2013][:10]"
   ]
  },
  {
   "cell_type": "code",
   "execution_count": 78,
   "metadata": {},
   "outputs": [
    {
     "data": {
      "text/plain": [
       "86283"
      ]
     },
     "execution_count": 78,
     "metadata": {},
     "output_type": "execute_result"
    }
   ],
   "source": [
    "uuid_not_in_list = {year: [uuid for uuid in uuid_from_filenames[year] if uuid not in set(uuids_per_year[year])] for year in years}\n",
    "len(uuid_not_in_list[2013])"
   ]
  },
  {
   "cell_type": "code",
   "execution_count": 79,
   "metadata": {},
   "outputs": [
    {
     "data": {
      "text/plain": [
       "[(87517, 86283, 86283, 0),\n",
       " (87517, 85903, 85903, 0),\n",
       " (87517, 84965, 84965, 0),\n",
       " (87517, 84211, 84211, 0),\n",
       " (87517, 82427, 82427, 0),\n",
       " (87517, 82427, 82427, 0)]"
      ]
     },
     "execution_count": 79,
     "metadata": {},
     "output_type": "execute_result"
    }
   ],
   "source": [
    "diff = [(len(set(uuid_from_filenames[year])), len(set(uuid_from_filenames[year]) ^ set(uuids_per_year[year])), len(set(uuid_from_filenames[year])) - len(set(uuids_per_year[year]))) for year in years]\n",
    "[(t[0], t[1], t[2], t[1] - t[2]) for t in diff]"
   ]
  },
  {
   "cell_type": "code",
   "execution_count": 68,
   "metadata": {},
   "outputs": [
    {
     "data": {
      "text/plain": [
       "48"
      ]
     },
     "execution_count": 68,
     "metadata": {},
     "output_type": "execute_result"
    }
   ],
   "source": [
    "from collections import Counter\n",
    "\n",
    "len({ key : value for key, value in Counter(uuids_per_year[2013]).most_common()  if value > 1})"
   ]
  },
  {
   "cell_type": "code",
   "execution_count": 80,
   "metadata": {},
   "outputs": [
    {
     "data": {
      "text/plain": [
       "['/home/tdjg/Documents/DeepSolaris/Images/Tiles/2013/00213a7d-3932-4e5b-ae0d-76549c77460d_ir_2013.tiff',\n",
       " '/home/tdjg/Documents/DeepSolaris/Images/Tiles/2013/00213a7d-3932-4e5b-ae0d-76549c77460d_rgb_2013.tiff',\n",
       " '/home/tdjg/Documents/DeepSolaris/Images/Tiles/2013/003a6168-724d-4699-9718-b07dddf6a50a_ir_2013.tiff',\n",
       " '/home/tdjg/Documents/DeepSolaris/Images/Tiles/2013/003a6168-724d-4699-9718-b07dddf6a50a_rgb_2013.tiff',\n",
       " '/home/tdjg/Documents/DeepSolaris/Images/Tiles/2013/0055d572-0f88-4f0c-8640-66655bf5d707_ir_2013.tiff',\n",
       " '/home/tdjg/Documents/DeepSolaris/Images/Tiles/2013/0055d572-0f88-4f0c-8640-66655bf5d707_rgb_2013.tiff',\n",
       " '/home/tdjg/Documents/DeepSolaris/Images/Tiles/2013/00e64dfe-4e57-4844-9b0a-b0a43235ce97_ir_2013.tiff',\n",
       " '/home/tdjg/Documents/DeepSolaris/Images/Tiles/2013/00e64dfe-4e57-4844-9b0a-b0a43235ce97_rgb_2013.tiff',\n",
       " '/home/tdjg/Documents/DeepSolaris/Images/Tiles/2013/01544813-41fc-4eec-86ae-5cdf1d218a3b_ir_2013.tiff',\n",
       " '/home/tdjg/Documents/DeepSolaris/Images/Tiles/2013/01544813-41fc-4eec-86ae-5cdf1d218a3b_rgb_2013.tiff']"
      ]
     },
     "execution_count": 80,
     "metadata": {},
     "output_type": "execute_result"
    }
   ],
   "source": [
    "pv_files_per_year = {year: [filename for filename in picture_filenames[year] if extract_uuid(filename) in set(uuids_per_year[year])] for year in years}\n",
    "pv_files_per_year[2013][:10]"
   ]
  },
  {
   "cell_type": "code",
   "execution_count": 81,
   "metadata": {},
   "outputs": [
    {
     "data": {
      "text/plain": [
       "[(2013, 2468),\n",
       " (2014, 3228),\n",
       " (2015, 2552),\n",
       " (2016, 6612),\n",
       " (2017, 10180),\n",
       " (2018, 10180)]"
      ]
     },
     "execution_count": 81,
     "metadata": {},
     "output_type": "execute_result"
    }
   ],
   "source": [
    "pv_counts = [(year, len(files)) for year, files in pv_files_per_year.items()]\n",
    "pv_counts"
   ]
  },
  {
   "cell_type": "code",
   "execution_count": 82,
   "metadata": {},
   "outputs": [
    {
     "data": {
      "text/plain": [
       "[(2013, 0.0),\n",
       " (2014, 0.0),\n",
       " (2015, 1276.0),\n",
       " (2016, 0.0),\n",
       " (2017, 0.0),\n",
       " (2018, 0.0)]"
      ]
     },
     "execution_count": 82,
     "metadata": {},
     "output_type": "execute_result"
    }
   ],
   "source": [
    "counts_diff = [(uuid_count[0], uuid_count[1] - (pv_count[1] / 2)) for uuid_count, pv_count in zip(uuid_counts, pv_counts)]\n",
    "counts_diff"
   ]
  },
  {
   "cell_type": "code",
   "execution_count": 16,
   "metadata": {},
   "outputs": [],
   "source": [
    "training_set_dir = os.path.join(ProjectPaths.instance().image_dir, \"Training_Heerlen\")"
   ]
  },
  {
   "cell_type": "code",
   "execution_count": 52,
   "metadata": {},
   "outputs": [],
   "source": [
    "for year in years:\n",
    "    year_path = os.path.join(training_set_dir, str(year))\n",
    "    if not os.path.exists(year_path):\n",
    "        os.makedirs(year_path)"
   ]
  },
  {
   "cell_type": "code",
   "execution_count": 54,
   "metadata": {},
   "outputs": [],
   "source": [
    "from shutil import copy\n",
    "\n",
    "for year, image_paths in pv_files_per_year.items():\n",
    "    year_path = os.path.join(training_set_dir, str(year))\n",
    "    for image_path in image_paths:\n",
    "        copy(image_path, year_path)\n",
    "    "
   ]
  },
  {
   "cell_type": "code",
   "execution_count": 74,
   "metadata": {},
   "outputs": [],
   "source": [
    "def file_in_training_dir(image_path, year):\n",
    "    training_dir = os.path.join(training_set_dir, str(year))\n",
    "    filename = os.path.basename(image_path)\n",
    "    return os.path.join(training_dir, filename)"
   ]
  },
  {
   "cell_type": "code",
   "execution_count": 58,
   "metadata": {},
   "outputs": [
    {
     "data": {
      "text/plain": [
       "'/home/tdjg/Documents/DeepSolaris/Images/Training_Heerlen/2013/00213a7d-3932-4e5b-ae0d-76549c77460d_ir_2013.tiff'"
      ]
     },
     "execution_count": 58,
     "metadata": {},
     "output_type": "execute_result"
    }
   ],
   "source": [
    "file_in_training_dir(pv_files_per_year[2013][0], 2013)"
   ]
  },
  {
   "cell_type": "code",
   "execution_count": 75,
   "metadata": {},
   "outputs": [
    {
     "data": {
      "text/plain": [
       "['/home/tdjg/Documents/DeepSolaris/Images/Training_Heerlen/2013/00213a7d-3932-4e5b-ae0d-76549c77460d_ir_2013.tiff',\n",
       " '/home/tdjg/Documents/DeepSolaris/Images/Training_Heerlen/2013/00213a7d-3932-4e5b-ae0d-76549c77460d_rgb_2013.tiff',\n",
       " '/home/tdjg/Documents/DeepSolaris/Images/Training_Heerlen/2013/003a6168-724d-4699-9718-b07dddf6a50a_ir_2013.tiff',\n",
       " '/home/tdjg/Documents/DeepSolaris/Images/Training_Heerlen/2013/003a6168-724d-4699-9718-b07dddf6a50a_rgb_2013.tiff',\n",
       " '/home/tdjg/Documents/DeepSolaris/Images/Training_Heerlen/2013/0055d572-0f88-4f0c-8640-66655bf5d707_ir_2013.tiff',\n",
       " '/home/tdjg/Documents/DeepSolaris/Images/Training_Heerlen/2013/0055d572-0f88-4f0c-8640-66655bf5d707_rgb_2013.tiff',\n",
       " '/home/tdjg/Documents/DeepSolaris/Images/Training_Heerlen/2013/00e64dfe-4e57-4844-9b0a-b0a43235ce97_ir_2013.tiff',\n",
       " '/home/tdjg/Documents/DeepSolaris/Images/Training_Heerlen/2013/00e64dfe-4e57-4844-9b0a-b0a43235ce97_rgb_2013.tiff',\n",
       " '/home/tdjg/Documents/DeepSolaris/Images/Training_Heerlen/2013/01544813-41fc-4eec-86ae-5cdf1d218a3b_ir_2013.tiff',\n",
       " '/home/tdjg/Documents/DeepSolaris/Images/Training_Heerlen/2013/01544813-41fc-4eec-86ae-5cdf1d218a3b_rgb_2013.tiff']"
      ]
     },
     "execution_count": 75,
     "metadata": {},
     "output_type": "execute_result"
    }
   ],
   "source": [
    "training_dir_paths = {year : [file_in_training_dir(image_path, year) for image_path in pv_files_per_year[year]] for year in years}\n",
    "training_dir_paths[2013][:10]"
   ]
  },
  {
   "cell_type": "code",
   "execution_count": 76,
   "metadata": {},
   "outputs": [
    {
     "data": {
      "text/plain": [
       "[(2013, 2468),\n",
       " (2014, 3228),\n",
       " (2015, 2552),\n",
       " (2016, 6612),\n",
       " (2017, 10180),\n",
       " (2018, 10180)]"
      ]
     },
     "execution_count": 76,
     "metadata": {},
     "output_type": "execute_result"
    }
   ],
   "source": [
    "[(year, len(files)) for year, files in training_dir_paths.items()]"
   ]
  },
  {
   "cell_type": "code",
   "execution_count": 17,
   "metadata": {},
   "outputs": [],
   "source": [
    "def dict_for_path(index, image_path, annotation):\n",
    "    return {\"id\" : index,\n",
    "            \"width\": 75,\n",
    "            \"height\": 75,\n",
    "            \"annotation\": annotation,\n",
    "            \"prediction\": 1,\n",
    "            \"filename\": image_path    \n",
    "           }\n",
    "\n",
    "def create_json_dict(image_paths, annotation=True):\n",
    "    return {\"current_page_index\": 0, \n",
    "            \"images\": [dict_for_path(i, image_path, annotation) for i, image_path in enumerate(image_paths)]\n",
    "           }"
   ]
  },
  {
   "cell_type": "code",
   "execution_count": 67,
   "metadata": {},
   "outputs": [],
   "source": [
    "import json\n",
    "\n",
    "training_dir_filter = DirectoryFilter(root_path=training_set_dir)\n",
    "for year in years:\n",
    "    image_paths = training_dir_filter.dir(str(year)).rgb.images.paths\n",
    "    image_paths = [path for path in image_paths if path.endswith(\".tiff\")]\n",
    "    json_dict = create_json_dict(image_paths)\n",
    "    with open(\"training_set_annotations_{}.json\".format(str(year)), \"w\") as json_file:\n",
    "        json.dump(json_dict, json_file)\n",
    "    "
   ]
  },
  {
   "cell_type": "code",
   "execution_count": 71,
   "metadata": {},
   "outputs": [
    {
     "data": {
      "text/plain": [
       "5090.0"
      ]
     },
     "execution_count": 71,
     "metadata": {},
     "output_type": "execute_result"
    }
   ],
   "source": [
    "len(set(pv_files_per_year[2018])) / 2"
   ]
  },
  {
   "cell_type": "code",
   "execution_count": 67,
   "metadata": {},
   "outputs": [
    {
     "data": {
      "text/plain": [
       "(5090,\n",
       " ['/home/tdjg/Documents/DeepSolaris/Images/Tiles/2018/0006c230-9197-453a-8644-e59081dc988e_rgb_2018.tiff',\n",
       "  '/home/tdjg/Documents/DeepSolaris/Images/Tiles/2018/00098e5e-09ed-4523-acad-8d805581d0bc_rgb_2018.tiff',\n",
       "  '/home/tdjg/Documents/DeepSolaris/Images/Tiles/2018/00099d20-3095-4225-bd60-d5928247447a_rgb_2018.tiff'])"
      ]
     },
     "execution_count": 67,
     "metadata": {},
     "output_type": "execute_result"
    }
   ],
   "source": [
    "rgb_files_2018 = [filename for filename in pv_files_per_year[2018] if filename.endswith(\".tiff\") and \"rgb\" in filename]\n",
    "len(rgb_files_2018), rgb_files_2018[:3]"
   ]
  },
  {
   "cell_type": "code",
   "execution_count": 18,
   "metadata": {},
   "outputs": [],
   "source": [
    "import json\n",
    "\n",
    "with open(r\"/home/tdjg/PycharmProjects/GridAnnotator/annotations/training_set_annotations_2018.json\") as json_file:\n",
    "    json_dict = json.load(json_file)  \n",
    "    images = json_dict[\"images\"]"
   ]
  },
  {
   "cell_type": "code",
   "execution_count": 77,
   "metadata": {},
   "outputs": [
    {
     "data": {
      "text/plain": [
       "5040"
      ]
     },
     "execution_count": 77,
     "metadata": {},
     "output_type": "execute_result"
    }
   ],
   "source": [
    "filenames_from_json = [image[\"filename\"] for image in images]\n",
    "len(filenames_from_json)"
   ]
  },
  {
   "cell_type": "code",
   "execution_count": 19,
   "metadata": {},
   "outputs": [
    {
     "data": {
      "text/plain": [
       "{'id': 0,\n",
       " 'width': 75,\n",
       " 'height': 75,\n",
       " 'annotation': True,\n",
       " 'prediction': 1,\n",
       " 'filename': '/home/tdjg/Documents/DeepSolaris/Images/Training_Heerlen/2018/0006c230-9197-453a-8644-e59081dc988e_rgb_2018.tiff',\n",
       " 'url': '/get_image/5/0',\n",
       " 'display_width': 150,\n",
       " 'display_height': 150,\n",
       " 'color': '#00ff00'}"
      ]
     },
     "execution_count": 19,
     "metadata": {},
     "output_type": "execute_result"
    }
   ],
   "source": [
    "images[0]"
   ]
  },
  {
   "cell_type": "code",
   "execution_count": 20,
   "metadata": {},
   "outputs": [],
   "source": [
    "annotated_positives = [image[\"filename\"] for image in images if image[\"annotation\"]]\n",
    "annotated_negatives = [image[\"filename\"] for image in images if not image[\"annotation\"]]"
   ]
  },
  {
   "cell_type": "code",
   "execution_count": 59,
   "metadata": {},
   "outputs": [
    {
     "data": {
      "text/plain": [
       "(3752, 1288, 5040)"
      ]
     },
     "execution_count": 59,
     "metadata": {},
     "output_type": "execute_result"
    }
   ],
   "source": [
    "len(annotated_positives), len(annotated_negatives), len(images)"
   ]
  },
  {
   "cell_type": "code",
   "execution_count": 22,
   "metadata": {},
   "outputs": [],
   "source": [
    "annotated_images = [os.path.basename(filename) for filename in annotated_positives + annotated_negatives]\n",
    "more_negatives = [filename for filename in rgb_picture_filenames[2018] if os.path.basename(filename) not in set(annotated_images)]\n",
    "    "
   ]
  },
  {
   "cell_type": "code",
   "execution_count": 23,
   "metadata": {},
   "outputs": [
    {
     "data": {
      "text/plain": [
       "82477"
      ]
     },
     "execution_count": 23,
     "metadata": {},
     "output_type": "execute_result"
    }
   ],
   "source": [
    "len(more_negatives)"
   ]
  },
  {
   "cell_type": "code",
   "execution_count": 24,
   "metadata": {},
   "outputs": [
    {
     "data": {
      "text/plain": [
       "['/home/tdjg/Documents/DeepSolaris/Images/Tiles/2018/00001900-3f87-4a57-8e1a-8fbdf3127213_rgb_2018.tiff',\n",
       " '/home/tdjg/Documents/DeepSolaris/Images/Tiles/2018/00023872-f873-4889-9b80-113677b9e86a_rgb_2018.tiff',\n",
       " '/home/tdjg/Documents/DeepSolaris/Images/Tiles/2018/00024a4c-54fe-4d74-838b-20b8ee7f4777_rgb_2018.tiff',\n",
       " '/home/tdjg/Documents/DeepSolaris/Images/Tiles/2018/00031d78-fd98-4371-ac7f-8f2ddf487021_rgb_2018.tiff',\n",
       " '/home/tdjg/Documents/DeepSolaris/Images/Tiles/2018/00036fd4-14a1-49a4-ae79-feaa26847d61_rgb_2018.tiff',\n",
       " '/home/tdjg/Documents/DeepSolaris/Images/Tiles/2018/0003f83d-6e5b-4413-ac6b-d941996d3390_rgb_2018.tiff',\n",
       " '/home/tdjg/Documents/DeepSolaris/Images/Tiles/2018/000469da-f33d-4f43-816d-9fe2c50b2e45_rgb_2018.tiff',\n",
       " '/home/tdjg/Documents/DeepSolaris/Images/Tiles/2018/0004a6c7-799b-438e-bb3d-db24d7a58eba_rgb_2018.tiff',\n",
       " '/home/tdjg/Documents/DeepSolaris/Images/Tiles/2018/00051b1f-4030-4eee-a4c2-1fd84fb558fb_rgb_2018.tiff',\n",
       " '/home/tdjg/Documents/DeepSolaris/Images/Tiles/2018/0005eb2b-aedc-4f3e-adb9-d64bae29a781_rgb_2018.tiff']"
      ]
     },
     "execution_count": 24,
     "metadata": {},
     "output_type": "execute_result"
    }
   ],
   "source": [
    "more_negatives[:10]"
   ]
  },
  {
   "cell_type": "code",
   "execution_count": 18,
   "metadata": {},
   "outputs": [],
   "source": [
    "import json\n",
    "\n",
    "negatives_dict = create_json_dict(more_negatives, False)\n",
    "with open(\"more_negatives_{}.json\".format(str(2018)), \"w\") as json_file:\n",
    "        json.dump(negatives_dict, json_file)"
   ]
  },
  {
   "cell_type": "code",
   "execution_count": 25,
   "metadata": {},
   "outputs": [],
   "source": [
    "import json\n",
    "\n",
    "with open(r\"/home/tdjg/PycharmProjects/GridAnnotator/annotations/more_negatives_2018.json\") as json_file:\n",
    "    json_dict = json.load(json_file)\n",
    "    more_negatives = json_dict[\"images\"]"
   ]
  },
  {
   "cell_type": "code",
   "execution_count": 26,
   "metadata": {},
   "outputs": [],
   "source": [
    "more_annotated_positives = [image[\"filename\"] for i, image in enumerate(more_negatives) if image[\"annotation\"] and i < 10500]\n",
    "more_annotated_negatives = [image[\"filename\"] for i, image in enumerate(more_negatives) if not image[\"annotation\"] and i < 10500]"
   ]
  },
  {
   "cell_type": "code",
   "execution_count": 27,
   "metadata": {},
   "outputs": [
    {
     "data": {
      "text/plain": [
       "(378, 10122)"
      ]
     },
     "execution_count": 27,
     "metadata": {},
     "output_type": "execute_result"
    }
   ],
   "source": [
    "len(more_annotated_positives), len(more_annotated_negatives)"
   ]
  },
  {
   "cell_type": "code",
   "execution_count": 28,
   "metadata": {},
   "outputs": [
    {
     "data": {
      "text/plain": [
       "(4130, 11410, 15540)"
      ]
     },
     "execution_count": 28,
     "metadata": {},
     "output_type": "execute_result"
    }
   ],
   "source": [
    "all_positives = annotated_positives + more_annotated_positives\n",
    "all_negatives = annotated_negatives + more_annotated_negatives\n",
    "len(all_positives), len(all_negatives), len(all_positives) + len(all_negatives)"
   ]
  },
  {
   "cell_type": "code",
   "execution_count": 29,
   "metadata": {},
   "outputs": [
    {
     "data": {
      "text/plain": [
       "(15540,)"
      ]
     },
     "execution_count": 29,
     "metadata": {},
     "output_type": "execute_result"
    }
   ],
   "source": [
    "import numpy as np\n",
    "\n",
    "all_labels = np.array([1 for i in range(len(all_positives))] + [0 for i in range(len(all_negatives))])\n",
    "all_labels.shape"
   ]
  },
  {
   "cell_type": "code",
   "execution_count": 12,
   "metadata": {},
   "outputs": [
    {
     "data": {
      "text/plain": [
       "(4130, 75, 75, 3)"
      ]
     },
     "execution_count": 12,
     "metadata": {},
     "output_type": "execute_result"
    }
   ],
   "source": [
    "import cv2\n",
    "\n",
    "positive_images = np.array([cv2.imread(filename) for filename in all_positives])\n",
    "positive_images.shape"
   ]
  },
  {
   "cell_type": "code",
   "execution_count": 14,
   "metadata": {},
   "outputs": [
    {
     "data": {
      "text/plain": [
       "(11410, 75, 75, 3)"
      ]
     },
     "execution_count": 14,
     "metadata": {},
     "output_type": "execute_result"
    }
   ],
   "source": [
    "negative_images = np.array([cv2.imread(filename) for filename in all_negatives])\n",
    "negative_images.shape"
   ]
  },
  {
   "cell_type": "code",
   "execution_count": 16,
   "metadata": {},
   "outputs": [],
   "source": [
    "import matplotlib.pyplot as plt\n",
    "\n",
    "%matplotlib inline"
   ]
  },
  {
   "cell_type": "code",
   "execution_count": 30,
   "metadata": {},
   "outputs": [
    {
     "ename": "NameError",
     "evalue": "name 'positive_images' is not defined",
     "output_type": "error",
     "traceback": [
      "\u001b[0;31m---------------------------------------------------------------------------\u001b[0m",
      "\u001b[0;31mNameError\u001b[0m                                 Traceback (most recent call last)",
      "\u001b[0;32m<ipython-input-30-1dad0c03f9a4>\u001b[0m in \u001b[0;36m<module>\u001b[0;34m\u001b[0m\n\u001b[0;32m----> 1\u001b[0;31m \u001b[0mplt\u001b[0m\u001b[0;34m.\u001b[0m\u001b[0mimshow\u001b[0m\u001b[0;34m(\u001b[0m\u001b[0mpositive_images\u001b[0m\u001b[0;34m[\u001b[0m\u001b[0;36m0\u001b[0m\u001b[0;34m]\u001b[0m\u001b[0;34m[\u001b[0m\u001b[0;34m:\u001b[0m\u001b[0;34m,\u001b[0m\u001b[0;34m:\u001b[0m\u001b[0;34m,\u001b[0m\u001b[0;34m:\u001b[0m\u001b[0;34m:\u001b[0m\u001b[0;34m-\u001b[0m\u001b[0;36m1\u001b[0m\u001b[0;34m]\u001b[0m\u001b[0;34m)\u001b[0m\u001b[0;34m\u001b[0m\u001b[0;34m\u001b[0m\u001b[0m\n\u001b[0m",
      "\u001b[0;31mNameError\u001b[0m: name 'positive_images' is not defined"
     ]
    }
   ],
   "source": [
    "plt.imshow(positive_images[0][:,:,::-1])"
   ]
  },
  {
   "cell_type": "code",
   "execution_count": 18,
   "metadata": {},
   "outputs": [
    {
     "data": {
      "text/plain": [
       "<matplotlib.image.AxesImage at 0x7f8eba2c7128>"
      ]
     },
     "execution_count": 18,
     "metadata": {},
     "output_type": "execute_result"
    },
    {
     "data": {
      "image/png": "[encoded data removed]",
      "text/plain": [
       "<Figure size 432x288 with 1 Axes>"
      ]
     },
     "metadata": {
      "needs_background": "light"
     },
     "output_type": "display_data"
    }
   ],
   "source": [
    "plt.imshow(negative_images[0][:,:,::-1])"
   ]
  },
  {
   "cell_type": "code",
   "execution_count": 19,
   "metadata": {},
   "outputs": [
    {
     "data": {
      "text/plain": [
       "(15540, 75, 75, 3)"
      ]
     },
     "execution_count": 19,
     "metadata": {},
     "output_type": "execute_result"
    }
   ],
   "source": [
    "all_images = np.vstack((positive_images, negative_images))\n",
    "all_images.shape"
   ]
  },
  {
   "cell_type": "code",
   "execution_count": 22,
   "metadata": {},
   "outputs": [],
   "source": [
    "np.save(\"deepsolaris_heerlen.npy\", all_images)\n",
    "np.save(\"deepsolaris_heerlen_labels.npy\", all_labels)"
   ]
  },
  {
   "cell_type": "code",
   "execution_count": 32,
   "metadata": {},
   "outputs": [
    {
     "name": "stdout",
     "output_type": "stream",
     "text": [
      "[(2013, 2468), (2014, 3228), (2015, 2552), (2016, 6612), (2017, 10180), (2018, 10180)]\n"
     ]
    }
   ],
   "source": [
    "print([(year, len(files)) for year, files in pv_files_per_year.items()])"
   ]
  },
  {
   "cell_type": "code",
   "execution_count": 33,
   "metadata": {},
   "outputs": [
    {
     "data": {
      "text/plain": [
       "['/home/tdjg/Documents/DeepSolaris/Images/Training_Heerlen/2018/0006c230-9197-453a-8644-e59081dc988e_rgb_2018.tiff',\n",
       " '/home/tdjg/Documents/DeepSolaris/Images/Training_Heerlen/2018/00098e5e-09ed-4523-acad-8d805581d0bc_rgb_2018.tiff',\n",
       " '/home/tdjg/Documents/DeepSolaris/Images/Training_Heerlen/2018/00099d20-3095-4225-bd60-d5928247447a_rgb_2018.tiff',\n",
       " '/home/tdjg/Documents/DeepSolaris/Images/Training_Heerlen/2018/003462d2-509f-4cfb-92e2-b2ab9c1de5b9_rgb_2018.tiff',\n",
       " '/home/tdjg/Documents/DeepSolaris/Images/Training_Heerlen/2018/003a6168-724d-4699-9718-b07dddf6a50a_rgb_2018.tiff',\n",
       " '/home/tdjg/Documents/DeepSolaris/Images/Training_Heerlen/2018/00746217-0db0-4007-8cb8-74617caff5d9_rgb_2018.tiff',\n",
       " '/home/tdjg/Documents/DeepSolaris/Images/Training_Heerlen/2018/0087f2f0-cd79-49c9-b01d-5044b83d7ce6_rgb_2018.tiff',\n",
       " '/home/tdjg/Documents/DeepSolaris/Images/Training_Heerlen/2018/00acbc84-172f-4cea-9590-26e55b2dfc18_rgb_2018.tiff',\n",
       " '/home/tdjg/Documents/DeepSolaris/Images/Training_Heerlen/2018/00d1afa6-154d-4bd3-8a65-2de6369f46de_rgb_2018.tiff',\n",
       " '/home/tdjg/Documents/DeepSolaris/Images/Training_Heerlen/2018/00e64dfe-4e57-4844-9b0a-b0a43235ce97_rgb_2018.tiff']"
      ]
     },
     "execution_count": 33,
     "metadata": {},
     "output_type": "execute_result"
    }
   ],
   "source": [
    "all_positives[:10]"
   ]
  },
  {
   "cell_type": "code",
   "execution_count": 40,
   "metadata": {},
   "outputs": [
    {
     "data": {
      "text/plain": [
       "(4130, 11410)"
      ]
     },
     "execution_count": 40,
     "metadata": {},
     "output_type": "execute_result"
    }
   ],
   "source": [
    "positive_uuids = [extract_uuid(filename) for filename in all_positives]\n",
    "negative_uuids = [extract_uuid(filename) for filename in all_negatives]\n",
    "len(positive_uuids), len(negative_uuids)"
   ]
  },
  {
   "cell_type": "code",
   "execution_count": 53,
   "metadata": {},
   "outputs": [],
   "source": [
    "annotated_positive_uuids_year = {year : [extract_uuid(filename) for filename in files if extract_uuid(filename) in set(positive_uuids) and \"rgb\" in filename] for year, files in pv_files_per_year.items()} "
   ]
  },
  {
   "cell_type": "code",
   "execution_count": 54,
   "metadata": {},
   "outputs": [
    {
     "name": "stdout",
     "output_type": "stream",
     "text": [
      "[(2013, 887), (2014, 1156), (2015, 1879), (2016, 2464), (2017, 3752), (2018, 3752)]\n"
     ]
    }
   ],
   "source": [
    "print([(year, len(files)) for year, files in annotated_positive_uuids_year.items()])"
   ]
  },
  {
   "cell_type": "code",
   "execution_count": 52,
   "metadata": {},
   "outputs": [
    {
     "data": {
      "text/plain": [
       "(['/home/tdjg/Documents/DeepSolaris/Images/Training_Heerlen/2013/00213a7d-3932-4e5b-ae0d-76549c77460d_rgb_2013.tiff',\n",
       "  '/home/tdjg/Documents/DeepSolaris/Images/Training_Heerlen/2013/003a6168-724d-4699-9718-b07dddf6a50a_rgb_2013.tiff',\n",
       "  '/home/tdjg/Documents/DeepSolaris/Images/Training_Heerlen/2013/0055d572-0f88-4f0c-8640-66655bf5d707_rgb_2013.tiff'],\n",
       " ['/home/tdjg/Documents/DeepSolaris/Images/Tiles/2013/003a6168-724d-4699-9718-b07dddf6a50a_rgb_2013.tiff',\n",
       "  '/home/tdjg/Documents/DeepSolaris/Images/Tiles/2013/00e64dfe-4e57-4844-9b0a-b0a43235ce97_rgb_2013.tiff',\n",
       "  '/home/tdjg/Documents/DeepSolaris/Images/Tiles/2013/01544813-41fc-4eec-86ae-5cdf1d218a3b_rgb_2013.tiff'])"
      ]
     },
     "execution_count": 52,
     "metadata": {},
     "output_type": "execute_result"
    }
   ],
   "source": [
    "image_paths = training_dir_filter.dir(str(2013)).rgb.images.paths\n",
    "image_paths[:3], annotated_positives_year[2013][:3]"
   ]
  },
  {
   "cell_type": "code",
   "execution_count": 58,
   "metadata": {},
   "outputs": [
    {
     "name": "stdout",
     "output_type": "stream",
     "text": [
      "year 2013 total 1234 pos 887, neg 347\n",
      "year 2014 total 1614 pos 1156, neg 458\n",
      "year 2015 total 2552 pos 1879, neg 673\n",
      "year 2016 total 3306 pos 2464, neg 842\n",
      "year 2017 total 5090 pos 3752, neg 1338\n",
      "year 2018 total 5090 pos 3752, neg 1338\n"
     ]
    }
   ],
   "source": [
    "#Rewrite file based on earlier annotations and positives from PIR\n",
    "import json\n",
    "\n",
    "training_dir_filter = DirectoryFilter(root_path=training_set_dir)\n",
    "for year in years:\n",
    "    image_paths = training_dir_filter.dir(str(year)).rgb.images.paths\n",
    "    image_paths = [path for path in image_paths if path.endswith(\".tiff\")]\n",
    "    pos_image_paths = [path for path in image_paths if extract_uuid(path) in set(annotated_positive_uuids_year[year])]\n",
    "    neg_image_paths = set(image_paths) ^ set(pos_image_paths)\n",
    "    print(\"year {} total {} pos {}, neg {}\".format(year, len(image_paths), len(pos_image_paths), len(neg_image_paths)))\n",
    "    json_dict = {\n",
    "        \"current_page_index\": 0, \n",
    "        \"images\": [dict_for_path(i, image_path, True) for i, image_path in enumerate(pos_image_paths)] +\n",
    "        [dict_for_path(i, image_path, False) for i, image_path in enumerate(neg_image_paths)]\n",
    "           }\n",
    "    with open(\"training_set_annotations_{}_pre_ann.json\".format(str(year)), \"w\") as json_file:\n",
    "        json.dump(json_dict, json_file)\n",
    "    "
   ]
  },
  {
   "cell_type": "code",
   "execution_count": 83,
   "metadata": {},
   "outputs": [
    {
     "data": {
      "text/plain": [
       "({'fddac2bd-73f0-4b09-8fcd-95da170de934_rgb_2018.tiff',\n",
       "  'fde3157e-f27b-4be1-a520-b785979d954e_rgb_2018.tiff',\n",
       "  'fde4ea64-e6a4-4f98-8979-0ef68e384393_rgb_2018.tiff',\n",
       "  'fdfe33c7-04a1-4777-9d34-11c8ca74f9c7_rgb_2018.tiff',\n",
       "  'fe06c661-0c9e-4485-b14e-9d207e44ba85_rgb_2018.tiff',\n",
       "  'fe071bb0-3c0a-4652-b858-739dd563a3a4_rgb_2018.tiff',\n",
       "  'fe131a45-6430-4918-bda8-5714cd23c4da_rgb_2018.tiff',\n",
       "  'fe18375c-d954-471c-8c85-d0cf4940d42b_rgb_2018.tiff',\n",
       "  'fe246a0f-3d11-4861-9c19-cf25688d28ff_rgb_2018.tiff',\n",
       "  'fe2e03a6-9170-45b5-80c0-000e4fff4639_rgb_2018.tiff',\n",
       "  'fe348490-88dd-4b5e-b1c4-5db3f3eab864_rgb_2018.tiff',\n",
       "  'fe70431e-975e-4aad-99a9-25c5665bfdca_rgb_2018.tiff',\n",
       "  'fe70becd-350c-4b74-94b4-48e5b2248194_rgb_2018.tiff',\n",
       "  'fe78d007-5350-4556-8081-e6e439ccbf1e_rgb_2018.tiff',\n",
       "  'fe7e5bb4-f153-4c52-9ec7-a175e3fac604_rgb_2018.tiff',\n",
       "  'fe89c526-cb0c-46e0-90eb-cb049e0786f0_rgb_2018.tiff',\n",
       "  'fe9861c5-4376-44ad-bf18-cc3524c8b662_rgb_2018.tiff',\n",
       "  'fe9c781b-6167-4f2a-9eab-a9b1e75401ae_rgb_2018.tiff',\n",
       "  'fea6011b-683d-494d-91b2-3b80576b8e61_rgb_2018.tiff',\n",
       "  'fec4440e-ae02-4589-877a-4a186c6a7044_rgb_2018.tiff',\n",
       "  'fec91eee-1bb1-46e1-98c8-94961a466c55_rgb_2018.tiff',\n",
       "  'fed46ddf-1d75-4875-8792-bd11a8d52e2f_rgb_2018.tiff',\n",
       "  'feecc279-d526-4ddc-8583-58ebafe268a1_rgb_2018.tiff',\n",
       "  'fef20680-b98f-4d1d-a85d-bb9f0c3643b3_rgb_2018.tiff',\n",
       "  'fefbe6c4-9444-460a-96ca-af71cd1c5795_rgb_2018.tiff',\n",
       "  'fefd8215-8a67-4d9a-98f7-ea11ec9f048f_rgb_2018.tiff',\n",
       "  'feffe7c2-ea00-4237-9bb9-a80ad500eef0_rgb_2018.tiff',\n",
       "  'ff07f1ab-f3de-4253-b78e-4d975a272955_rgb_2018.tiff',\n",
       "  'ff0e70a6-0355-4a6b-8f52-b115b1f2ddbe_rgb_2018.tiff',\n",
       "  'ff23c63d-5b7c-4379-9b86-856b6a290b35_rgb_2018.tiff',\n",
       "  'ff38c3ef-0ab5-4b3a-bedc-3874430cc1ed_rgb_2018.tiff',\n",
       "  'ff39f91b-c92b-4f66-9e35-1e1213a4f6b9_rgb_2018.tiff',\n",
       "  'ff40a886-58fc-4534-9204-c98e27703454_rgb_2018.tiff',\n",
       "  'ff44a734-0a4a-4c35-952e-9cc7b099c66c_rgb_2018.tiff',\n",
       "  'ff4dc9f2-cd6b-4b1d-81f0-3a95a267f962_rgb_2018.tiff',\n",
       "  'ff636bca-3a19-4413-bd8e-b16b4963351f_rgb_2018.tiff',\n",
       "  'ff69dfd4-0d92-4ee6-b67b-1b510dfa0014_rgb_2018.tiff',\n",
       "  'ff744b9e-3a5e-48cd-9a6a-0a8d7e1d1a48_rgb_2018.tiff',\n",
       "  'ff83f0bc-5bc6-41f7-b155-8a5854d16823_rgb_2018.tiff',\n",
       "  'ff85a760-bb62-4897-bba0-fa08da90331a_rgb_2018.tiff',\n",
       "  'ff8cf809-8243-47ae-826f-6313db49b40b_rgb_2018.tiff',\n",
       "  'ff9cca1c-a221-4e36-80fa-0d54242a64e5_rgb_2018.tiff',\n",
       "  'ffaaddb3-a644-404f-99d5-5888071c111f_rgb_2018.tiff',\n",
       "  'ffc6dd88-671b-4559-8178-e2b8eea525fa_rgb_2018.tiff',\n",
       "  'ffd3f3e0-5b26-4ca8-9c5e-35e059f63112_rgb_2018.tiff',\n",
       "  'ffe32229-78ec-45b5-9b53-a36b24d0afa8_rgb_2018.tiff',\n",
       "  'ffe4e541-c158-4bdc-a803-5e4686cfc548_rgb_2018.tiff',\n",
       "  'ffe615a3-6582-423d-93f2-7f8ceacac4fe_rgb_2018.tiff',\n",
       "  'ffe8240c-b713-46bb-b7a7-e7b43bfcd1da_rgb_2018.tiff',\n",
       "  'ffeecb97-b10d-48f8-9c66-75892a462da9_rgb_2018.tiff'},\n",
       " 50,\n",
       " 5090,\n",
       " 5040)"
      ]
     },
     "execution_count": 83,
     "metadata": {},
     "output_type": "execute_result"
    }
   ],
   "source": [
    "basenames_2018 = set([os.path.basename(filename) for filename in filenames_from_json])\n",
    "basenames_2018_orig = set([os.path.basename(filename) for filename in training_dir_filter.dir(str(2018)).rgb.images.paths if filename.endswith(\".tiff\")])\n",
    "diff = basenames_2018 ^ basenames_2018_orig\n",
    "diff, len(diff), len(basenames_2018_orig), len(basenames_2018)"
   ]
  },
  {
   "cell_type": "markdown",
   "metadata": {},
   "source": [
    "# Heerlen HR dataset"
   ]
  },
  {
   "cell_type": "code",
   "execution_count": 15,
   "metadata": {},
   "outputs": [
    {
     "data": {
      "text/plain": [
       "(['/home/tdjg/Documents/DeepSolaris/Images/Tiles/2018_HR/Heerlen-2018-HR/1dbc9551-bc67-4f97-81b8-da9d2350349d_rgb_hr_2018.tiff',\n",
       "  '/home/tdjg/Documents/DeepSolaris/Images/Tiles/2018_HR/Heerlen-2018-HR/7da0783f-eb03-460e-b2ff-0f9b03d49c52_rgb_hr_2018.tiff',\n",
       "  '/home/tdjg/Documents/DeepSolaris/Images/Tiles/2018_HR/Heerlen-2018-HR/a8ad2c41-bd99-4dd4-8e7b-3e41880627cd_rgb_hr_2018.tiff',\n",
       "  '/home/tdjg/Documents/DeepSolaris/Images/Tiles/2018_HR/Heerlen-2018-HR/c7197b4b-c1ef-48d1-acea-4f61fb137e09_rgb_hr_2018.tiff',\n",
       "  '/home/tdjg/Documents/DeepSolaris/Images/Tiles/2018_HR/Heerlen-2018-HR/c1956cb0-0b0d-4373-9481-82aab8ccff4f_rgb_hr_2018.tiff',\n",
       "  '/home/tdjg/Documents/DeepSolaris/Images/Tiles/2018_HR/Heerlen-2018-HR/536a1144-ffb0-4771-b06c-4aede3d92d33_rgb_hr_2018.tiff',\n",
       "  '/home/tdjg/Documents/DeepSolaris/Images/Tiles/2018_HR/Heerlen-2018-HR/8adb9d31-4723-4ca9-9985-96f66effb4b2_rgb_hr_2018.tiff',\n",
       "  '/home/tdjg/Documents/DeepSolaris/Images/Tiles/2018_HR/Heerlen-2018-HR/93b602f8-7449-4790-b28d-005046fd718e_rgb_hr_2018.tiff',\n",
       "  '/home/tdjg/Documents/DeepSolaris/Images/Tiles/2018_HR/Heerlen-2018-HR/cf4cf3ac-a4d6-4bec-bca0-9e8e0c953fdf_rgb_hr_2018.tiff',\n",
       "  '/home/tdjg/Documents/DeepSolaris/Images/Tiles/2018_HR/Heerlen-2018-HR/46a40af3-f120-404f-9ed2-a3e3d0bea2a5_rgb_hr_2018.tiff'],\n",
       " 89971)"
      ]
     },
     "execution_count": 15,
     "metadata": {},
     "output_type": "execute_result"
    }
   ],
   "source": [
    "import os\n",
    "\n",
    "hr_path = os.path.join(ProjectPaths.instance().image_dir, \"Tiles/2018_HR/Heerlen-2018-HR/\")\n",
    "\n",
    "hr_rgb_files = [os.path.join(hr_path, filename) for filename in os.listdir(hr_path) if filename.endswith(\"hr_2018.tiff\")]\n",
    "hr_rgb_files[:10], len(hr_rgb_files)"
   ]
  },
  {
   "cell_type": "code",
   "execution_count": 17,
   "metadata": {},
   "outputs": [],
   "source": [
    "hr_rgb_files = set(hr_rgb_files)"
   ]
  },
  {
   "cell_type": "code",
   "execution_count": 19,
   "metadata": {},
   "outputs": [
    {
     "data": {
      "text/plain": [
       "['467372d4-b78e-4113-98f5-cc14ffe1769b',\n",
       " '22dce665-8f9b-4d41-985f-038a42864785',\n",
       " '5d82f77b-0c42-4e69-9f75-40f8c94a7d80',\n",
       " '6706144f-a278-4218-a2ca-50f8cbbb3053',\n",
       " '2bd04f19-d7be-4981-a4ba-4b823ccb4f9c',\n",
       " 'c3ea3538-36de-49a4-8a12-92ccfe1c02b6',\n",
       " '31d84bf2-c9e7-41df-8c29-56b95ccae75c',\n",
       " '0f66a0a0-d0ed-4469-9ba0-3314c987ac23',\n",
       " '04ddc79a-7aa9-4aac-aef9-9f0819e9a545',\n",
       " '11ee9474-87c0-48f6-8759-5e1e5bc24dca']"
      ]
     },
     "execution_count": 19,
     "metadata": {},
     "output_type": "execute_result"
    }
   ],
   "source": [
    "hr_uuids = [extract_uuid(filename) for filename in hr_rgb_files]\n",
    "hr_uuids[:10]"
   ]
  },
  {
   "cell_type": "code",
   "execution_count": 28,
   "metadata": {},
   "outputs": [
    {
     "data": {
      "text/plain": [
       "5090"
      ]
     },
     "execution_count": 28,
     "metadata": {},
     "output_type": "execute_result"
    }
   ],
   "source": [
    "intersect_hr_lr = set(uuids_per_year[2018]) & set(hr_uuids)\n",
    "len(intersect_hr_lr)"
   ]
  },
  {
   "cell_type": "code",
   "execution_count": 29,
   "metadata": {},
   "outputs": [
    {
     "data": {
      "text/plain": [
       "['f60bff9d-c0c6-41b0-904e-1a70fd86e52b',\n",
       " '69e35977-dfa3-4810-b108-153dc2c54121',\n",
       " '02a8cd0d-7f50-4e2f-b81f-6ce21adf24ea',\n",
       " 'ef24adfd-a885-4207-8e1d-5b5e0a5acf2d',\n",
       " '93927973-0531-4a07-9475-1ed58fba23b7',\n",
       " 'ebacdb97-2f01-4e4c-b900-c2cf666d20b5',\n",
       " '4f21c9d4-9246-43f5-b508-6ed7b3d1d065',\n",
       " '8d40870a-487d-4e85-962b-3f7b16da4113',\n",
       " 'c161fd43-c7ba-4436-842d-4879b759ec7c',\n",
       " 'e15dff46-f398-4a22-b34b-7f2f52590e78']"
      ]
     },
     "execution_count": 29,
     "metadata": {},
     "output_type": "execute_result"
    }
   ],
   "source": [
    "list(intersect_hr_lr)[:10]"
   ]
  },
  {
   "cell_type": "code",
   "execution_count": 33,
   "metadata": {},
   "outputs": [
    {
     "data": {
      "text/plain": [
       "84881"
      ]
     },
     "execution_count": 33,
     "metadata": {},
     "output_type": "execute_result"
    }
   ],
   "source": [
    "diff_hr_lr = set(hr_uuids) - set(uuids_per_year[2018])\n",
    "len(diff_hr_lr)"
   ]
  },
  {
   "cell_type": "code",
   "execution_count": 34,
   "metadata": {},
   "outputs": [
    {
     "data": {
      "text/plain": [
       "['7eafae1a-ddc3-4701-8883-d69782161f08',\n",
       " 'f83409b4-baa8-4a8d-9713-dbf4be0e18c7',\n",
       " '584c0b94-55ad-4602-ac1a-1da4088a1573',\n",
       " '58ae4a4b-4dbb-4b4c-8041-3ac7c0a4cca3',\n",
       " 'dc988857-906e-4eb5-870b-965a968bf231',\n",
       " '172dec21-58c9-422e-9f28-4c1d6dc5837c',\n",
       " '347fd315-963b-4f0d-80bb-b96add38f159',\n",
       " 'a8d1443b-160d-4841-98a8-51d34ad3e01c',\n",
       " 'e0cde703-8789-4292-863f-567793d514a6',\n",
       " 'd655956c-28e3-4e52-af75-e54a610ee866']"
      ]
     },
     "execution_count": 34,
     "metadata": {},
     "output_type": "execute_result"
    }
   ],
   "source": [
    "list(diff_hr_lr)[:10]"
   ]
  }
 ],
 "metadata": {
  "kernelspec": {
   "display_name": "Python 3",
   "language": "python",
   "name": "python3"
  },
  "language_info": {
   "codemirror_mode": {
    "name": "ipython",
    "version": 3
   },
   "file_extension": ".py",
   "mimetype": "text/x-python",
   "name": "python",
   "nbconvert_exporter": "python",
   "pygments_lexer": "ipython3",
   "version": "3.6.6"
  }
 },
 "nbformat": 4,
 "nbformat_minor": 2
}
