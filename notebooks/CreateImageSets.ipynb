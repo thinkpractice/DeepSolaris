{
 "cells": [
  {
   "cell_type": "code",
   "execution_count": 1,
   "metadata": {
    "collapsed": true
   },
   "outputs": [],
   "source": [
    "from Datasets import Datasets\n",
    "import numpy as np"
   ]
  },
  {
   "cell_type": "code",
   "execution_count": null,
   "metadata": {},
   "outputs": [],
   "source": [
    "import os\n",
    "\n",
    "current_dir = r\"/media/tim/Data/Work/CBS/Code_hannah/Images\"\n",
    "labelFilenames = [os.path.join(current_dir, \"test_labels_{}.npy\".format(name)) for name in [\"Bradbury\", \"Fresno\", \"CBS\"]]\n",
    "imageFilenames = [os.path.join(current_dir, \"test_images_{}.npy\".format(name)) for name in [\"Bradbury\", \"Fresno\", \"CBS\"]]\n",
    "\n",
    "for labelFilename, imageFilename in zip(labelFilenames, imageFilenames):\n",
    "    labels = np.load(labelFilename)\n",
    "    images = np.load(imageFilename)\n",
    "    np.save(labelFilename + \".old\", labels)\n",
    "    np.save(imageFilename + \".old\", images)\n",
    "    \n",
    "    splitIndex = labels.shape[0] // 2\n",
    "    test_labels = labels[:splitIndex]\n",
    "    test_images = images[:splitIndex, :, :, :]   \n",
    "    np.save(labelFilename, test_labels)\n",
    "    np.save(imageFilename, test_images)\n",
    "    \n",
    "    validation_labels = labels[splitIndex:]\n",
    "    validation_images = images[splitIndex:, :, :, :]\n",
    "    np.save(labelFilename.replace(\"test\", \"validation\"), validation_labels)\n",
    "    np.save(imageFilename.replace(\"test\",\"validation\"), validation_images)\n",
    "    \n",
    "    "
   ]
  }
 ],
 "metadata": {
  "kernelspec": {
   "display_name": "Python 2",
   "language": "python",
   "name": "python2"
  },
  "language_info": {
   "codemirror_mode": {
    "name": "ipython",
    "version": 2
   },
   "file_extension": ".py",
   "mimetype": "text/x-python",
   "name": "python",
   "nbconvert_exporter": "python",
   "pygments_lexer": "ipython2",
   "version": "2.7.6"
  }
 },
 "nbformat": 4,
 "nbformat_minor": 0
}
