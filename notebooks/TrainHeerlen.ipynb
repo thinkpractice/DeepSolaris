{
 "cells": [
  {
   "cell_type": "code",
   "execution_count": 1,
   "metadata": {},
   "outputs": [
    {
     "name": "stderr",
     "output_type": "stream",
     "text": [
      "Using TensorFlow backend.\n"
     ]
    },
    {
     "name": "stdout",
     "output_type": "stream",
     "text": [
      "_________________________________________________________________\n",
      "Layer (type)                 Output Shape              Param #   \n",
      "=================================================================\n",
      "input_1 (InputLayer)         (None, None, None, 3)     0         \n",
      "_________________________________________________________________\n",
      "block1_conv1 (Conv2D)        (None, None, None, 64)    1792      \n",
      "_________________________________________________________________\n",
      "block1_conv2 (Conv2D)        (None, None, None, 64)    36928     \n",
      "_________________________________________________________________\n",
      "block1_pool (MaxPooling2D)   (None, None, None, 64)    0         \n",
      "_________________________________________________________________\n",
      "block2_conv1 (Conv2D)        (None, None, None, 128)   73856     \n",
      "_________________________________________________________________\n",
      "block2_conv2 (Conv2D)        (None, None, None, 128)   147584    \n",
      "_________________________________________________________________\n",
      "block2_pool (MaxPooling2D)   (None, None, None, 128)   0         \n",
      "_________________________________________________________________\n",
      "block3_conv1 (Conv2D)        (None, None, None, 256)   295168    \n",
      "_________________________________________________________________\n",
      "block3_conv2 (Conv2D)        (None, None, None, 256)   590080    \n",
      "_________________________________________________________________\n",
      "block3_conv3 (Conv2D)        (None, None, None, 256)   590080    \n",
      "_________________________________________________________________\n",
      "block3_pool (MaxPooling2D)   (None, None, None, 256)   0         \n",
      "_________________________________________________________________\n",
      "block4_conv1 (Conv2D)        (None, None, None, 512)   1180160   \n",
      "_________________________________________________________________\n",
      "block4_conv2 (Conv2D)        (None, None, None, 512)   2359808   \n",
      "_________________________________________________________________\n",
      "block4_conv3 (Conv2D)        (None, None, None, 512)   2359808   \n",
      "_________________________________________________________________\n",
      "block4_pool (MaxPooling2D)   (None, None, None, 512)   0         \n",
      "_________________________________________________________________\n",
      "block5_conv1 (Conv2D)        (None, None, None, 512)   2359808   \n",
      "_________________________________________________________________\n",
      "block5_conv2 (Conv2D)        (None, None, None, 512)   2359808   \n",
      "_________________________________________________________________\n",
      "block5_conv3 (Conv2D)        (None, None, None, 512)   2359808   \n",
      "_________________________________________________________________\n",
      "global_average_pooling2d_1 ( (None, 512)               0         \n",
      "_________________________________________________________________\n",
      "dense_1 (Dense)              (None, 512)               262656    \n",
      "_________________________________________________________________\n",
      "batch_normalization_1 (Batch (None, 512)               2048      \n",
      "_________________________________________________________________\n",
      "dropout_1 (Dropout)          (None, 512)               0         \n",
      "_________________________________________________________________\n",
      "dense_2 (Dense)              (None, 1)                 513       \n",
      "=================================================================\n",
      "Total params: 14,979,905\n",
      "Trainable params: 14,978,881\n",
      "Non-trainable params: 1,024\n",
      "_________________________________________________________________\n"
     ]
    }
   ],
   "source": [
    "from keras.applications import VGG16\n",
    "from keras.layers import GlobalAveragePooling2D, Dense, Dropout, Flatten\n",
    "from keras.layers.normalization import BatchNormalization\n",
    "from keras.models import Model\n",
    "\n",
    "def vgg16_model(trainable=True):\n",
    "    base_model = VGG16(False, weights=\"imagenet\")\n",
    "    for layer in base_model.layers:\n",
    "        layer.trainable = True\n",
    "    \n",
    "    last_conv_layer = base_model.get_layer(\"block5_conv3\")\n",
    "    x = GlobalAveragePooling2D()(last_conv_layer.output)\n",
    "    x = Dense(512, activation=\"relu\")(x)  \n",
    "    x = BatchNormalization(axis=-1)(x)\n",
    "    x = Dropout(0.25)(x)\n",
    "    predictions = Dense(1, activation=\"sigmoid\")(x)\n",
    "    return Model(base_model.input, predictions)\n",
    "\n",
    "\n",
    "\n",
    "model = vgg16_model(False)\n",
    "model.summary()"
   ]
  },
  {
   "cell_type": "code",
   "execution_count": 2,
   "metadata": {},
   "outputs": [],
   "source": [
    "from ProjectPaths import ProjectPaths\n",
    "import numpy as np\n",
    "import os"
   ]
  },
  {
   "cell_type": "code",
   "execution_count": 3,
   "metadata": {},
   "outputs": [],
   "source": [
    "heerlen_images_filename = os.path.join(ProjectPaths.instance().image_dir, \"deepsolaris_heerlen.npy\")\n",
    "heerlen_labels_filename = os.path.join(ProjectPaths.instance().image_dir, \"deepsolaris_heerlen_labels.npy\")"
   ]
  },
  {
   "cell_type": "code",
   "execution_count": 9,
   "metadata": {},
   "outputs": [
    {
     "data": {
      "text/plain": [
       "(15540,)"
      ]
     },
     "execution_count": 9,
     "metadata": {},
     "output_type": "execute_result"
    }
   ],
   "source": [
    "heerlen_images = np.load(heerlen_images_filename)\n",
    "heerlen_labels = np.load(heerlen_labels_filename)\n",
    "heerlen_labels.shape"
   ]
  },
  {
   "cell_type": "code",
   "execution_count": 5,
   "metadata": {},
   "outputs": [],
   "source": [
    "import matplotlib.pyplot as plt\n",
    "%matplotlib inline"
   ]
  },
  {
   "cell_type": "code",
   "execution_count": 6,
   "metadata": {},
   "outputs": [
    {
     "data": {
      "text/plain": [
       "<matplotlib.image.AxesImage at 0x7f9da3421f98>"
      ]
     },
     "execution_count": 6,
     "metadata": {},
     "output_type": "execute_result"
    },
    {
     "data": {
      "image/png": "[encoded data removed]",
      "text/plain": [
       "<matplotlib.figure.Figure at 0x7f9da34bd5c0>"
      ]
     },
     "metadata": {},
     "output_type": "display_data"
    }
   ],
   "source": [
    "plt.imshow(heerlen_images[0][:,:,::-1])"
   ]
  },
  {
   "cell_type": "code",
   "execution_count": 7,
   "metadata": {},
   "outputs": [
    {
     "data": {
      "text/plain": [
       "((15540, 75, 75, 3), 0, 255)"
      ]
     },
     "execution_count": 7,
     "metadata": {},
     "output_type": "execute_result"
    }
   ],
   "source": [
    "heerlen_images_normalized = heerlen_images / 255\n",
    "heerlen_images_normalized.shape, heerlen_images.min(), heerlen_images.max()"
   ]
  },
  {
   "cell_type": "code",
   "execution_count": 28,
   "metadata": {},
   "outputs": [],
   "source": [
    "from sklearn.model_selection import train_test_split\n",
    "\n",
    "train_images, test_validation_images, train_labels, test_validation_labels = train_test_split(heerlen_images_normalized, heerlen_labels, test_size=0.20)\n",
    "test_images, validation_images, test_labels, validation_labels = train_test_split(test_validation_images, test_validation_labels, test_size=0.50)"
   ]
  },
  {
   "cell_type": "code",
   "execution_count": 12,
   "metadata": {},
   "outputs": [],
   "source": [
    "from keras.preprocessing.image import ImageDataGenerator\n",
    "\n",
    "data_generator = ImageDataGenerator(rotation_range=20,\n",
    "    width_shift_range=0.2,\n",
    "    height_shift_range=0.2,\n",
    "    channel_shift_range = 0.1,\n",
    "    zoom_range = 0.3,\n",
    "    shear_range = 0.15,                                \n",
    "    #brightness_range = [0.9, 1.1],\n",
    "    horizontal_flip=True,\n",
    "    fill_mode=\"nearest\")\n",
    "\n",
    "test_datagen = ImageDataGenerator()"
   ]
  },
  {
   "cell_type": "code",
   "execution_count": 13,
   "metadata": {},
   "outputs": [],
   "source": [
    "from keras.optimizers import SGD\n",
    "\n",
    "batch_size = 64\n",
    "epochs = 100\n",
    "learning_rate = 0.0001\n",
    "decay_rate = learning_rate / epochs\n",
    "momentum = 0.8\n",
    "sgd = SGD(lr=learning_rate, momentum=momentum, decay=decay_rate, nesterov=False)"
   ]
  },
  {
   "cell_type": "code",
   "execution_count": 14,
   "metadata": {},
   "outputs": [],
   "source": [
    "train_generator = data_generator.flow(train_images, train_labels, batch_size=batch_size)\n",
    "test_generator = test_datagen.flow(test_images, test_labels, batch_size=batch_size, shuffle=False)"
   ]
  },
  {
   "cell_type": "code",
   "execution_count": 15,
   "metadata": {},
   "outputs": [],
   "source": [
    "from PerformanceMetrics import PerformanceMetrics\n",
    "\n",
    "model.compile(optimizer=\"adadelta\", loss='binary_crossentropy',\n",
    "                  metrics=['accuracy', PerformanceMetrics.precision,\n",
    "                           PerformanceMetrics.recall, PerformanceMetrics.fmeasure])"
   ]
  },
  {
   "cell_type": "code",
   "execution_count": 17,
   "metadata": {},
   "outputs": [
    {
     "name": "stdout",
     "output_type": "stream",
     "text": [
      "Epoch 1/100\n",
      "194/194 [==============================] - 19s 97ms/step - loss: 0.5199 - acc: 0.7394 - precision: 0.5380 - recall: 0.3337 - fmeasure: 0.3903 - val_loss: 1.2061 - val_acc: 0.7476 - val_precision: 0.0000e+00 - val_recall: 0.0000e+00 - val_fmeasure: 0.0000e+00\n",
      "\n",
      "Epoch 00001: val_acc improved from -inf to 0.74759, saving model to /media/tim/Data/Work/CBS/DeepSolaris/Models/vgg16_heerlen_batch_norm_2019-02-09_64_100/vgg16_heerlen_batch_norm__01_0.75.hdf5\n",
      "Epoch 2/100\n",
      "194/194 [==============================] - 17s 85ms/step - loss: 0.4656 - acc: 0.7771 - precision: 0.6646 - recall: 0.3839 - fmeasure: 0.4657 - val_loss: 0.5221 - val_acc: 0.7919 - val_precision: 0.9542 - val_recall: 0.1739 - val_fmeasure: 0.2860\n",
      "\n",
      "Epoch 00002: val_acc improved from 0.74759 to 0.79192, saving model to /media/tim/Data/Work/CBS/DeepSolaris/Models/vgg16_heerlen_batch_norm_2019-02-09_64_100/vgg16_heerlen_batch_norm__02_0.79.hdf5\n",
      "Epoch 3/100\n",
      "194/194 [==============================] - 17s 89ms/step - loss: 0.4099 - acc: 0.8138 - precision: 0.7660 - recall: 0.4946 - fmeasure: 0.5782 - val_loss: 0.5320 - val_acc: 0.8137 - val_precision: 0.9571 - val_recall: 0.2714 - val_fmeasure: 0.4119\n",
      "\n",
      "Epoch 00003: val_acc improved from 0.79192 to 0.81373, saving model to /media/tim/Data/Work/CBS/DeepSolaris/Models/vgg16_heerlen_batch_norm_2019-02-09_64_100/vgg16_heerlen_batch_norm__03_0.81.hdf5\n",
      "Epoch 4/100\n",
      "194/194 [==============================] - 17s 89ms/step - loss: 0.3829 - acc: 0.8329 - precision: 0.7992 - recall: 0.5383 - fmeasure: 0.6267 - val_loss: 0.3404 - val_acc: 0.8634 - val_precision: 0.9382 - val_recall: 0.4885 - val_fmeasure: 0.6338\n",
      "\n",
      "Epoch 00004: val_acc improved from 0.81373 to 0.86343, saving model to /media/tim/Data/Work/CBS/DeepSolaris/Models/vgg16_heerlen_batch_norm_2019-02-09_64_100/vgg16_heerlen_batch_norm__04_0.86.hdf5\n",
      "Epoch 5/100\n",
      "194/194 [==============================] - 17s 89ms/step - loss: 0.3746 - acc: 0.8400 - precision: 0.8149 - recall: 0.5525 - fmeasure: 0.6382 - val_loss: 0.3164 - val_acc: 0.8935 - val_precision: 0.9206 - val_recall: 0.6341 - val_fmeasure: 0.7438\n",
      "\n",
      "Epoch 00005: val_acc improved from 0.86343 to 0.89346, saving model to /media/tim/Data/Work/CBS/DeepSolaris/Models/vgg16_heerlen_batch_norm_2019-02-09_64_100/vgg16_heerlen_batch_norm__05_0.89.hdf5\n",
      "Epoch 6/100\n",
      "194/194 [==============================] - 17s 89ms/step - loss: 0.3549 - acc: 0.8466 - precision: 0.8146 - recall: 0.5855 - fmeasure: 0.6638 - val_loss: 0.4506 - val_acc: 0.8105 - val_precision: 0.9695 - val_recall: 0.2490 - val_fmeasure: 0.3864\n",
      "\n",
      "Epoch 00006: val_acc did not improve from 0.89346\n",
      "Epoch 7/100\n",
      "194/194 [==============================] - 17s 89ms/step - loss: 0.3440 - acc: 0.8578 - precision: 0.8360 - recall: 0.6057 - fmeasure: 0.6889 - val_loss: 0.4896 - val_acc: 0.8112 - val_precision: 0.9914 - val_recall: 0.2571 - val_fmeasure: 0.3981\n",
      "\n",
      "Epoch 00007: val_acc did not improve from 0.89346\n",
      "Epoch 8/100\n",
      "194/194 [==============================] - 17s 89ms/step - loss: 0.3348 - acc: 0.8613 - precision: 0.8330 - recall: 0.6171 - fmeasure: 0.6964 - val_loss: 0.3003 - val_acc: 0.8738 - val_precision: 0.9171 - val_recall: 0.5510 - val_fmeasure: 0.6816\n",
      "\n",
      "Epoch 00008: val_acc did not improve from 0.89346\n",
      "Epoch 9/100\n",
      "194/194 [==============================] - 17s 90ms/step - loss: 0.3397 - acc: 0.8620 - precision: 0.8374 - recall: 0.6209 - fmeasure: 0.6993 - val_loss: 0.3223 - val_acc: 0.8670 - val_precision: 0.6910 - val_recall: 0.8624 - val_fmeasure: 0.7607\n",
      "\n",
      "Epoch 00009: val_acc did not improve from 0.89346\n",
      "Epoch 10/100\n",
      "194/194 [==============================] - 17s 90ms/step - loss: 0.3275 - acc: 0.8665 - precision: 0.8403 - recall: 0.6422 - fmeasure: 0.7158 - val_loss: 0.2297 - val_acc: 0.9196 - val_precision: 0.8993 - val_recall: 0.7751 - val_fmeasure: 0.8273\n",
      "\n",
      "Epoch 00010: val_acc improved from 0.89346 to 0.91956, saving model to /media/tim/Data/Work/CBS/DeepSolaris/Models/vgg16_heerlen_batch_norm_2019-02-09_64_100/vgg16_heerlen_batch_norm__10_0.92.hdf5\n",
      "Epoch 11/100\n",
      "194/194 [==============================] - 17s 90ms/step - loss: 0.3126 - acc: 0.8727 - precision: 0.8553 - recall: 0.6537 - fmeasure: 0.7270 - val_loss: 0.5411 - val_acc: 0.7898 - val_precision: 0.5512 - val_recall: 0.8858 - val_fmeasure: 0.6718\n",
      "\n",
      "Epoch 00011: val_acc did not improve from 0.91956\n",
      "Epoch 12/100\n",
      "194/194 [==============================] - 17s 89ms/step - loss: 0.3123 - acc: 0.8732 - precision: 0.8465 - recall: 0.6603 - fmeasure: 0.7304 - val_loss: 0.4189 - val_acc: 0.8144 - val_precision: 0.5925 - val_recall: 0.8631 - val_fmeasure: 0.6947\n",
      "\n",
      "Epoch 00012: val_acc did not improve from 0.91956\n",
      "Epoch 13/100\n",
      "194/194 [==============================] - 17s 90ms/step - loss: 0.3126 - acc: 0.8728 - precision: 0.8489 - recall: 0.6609 - fmeasure: 0.7305 - val_loss: 0.2421 - val_acc: 0.9135 - val_precision: 0.8674 - val_recall: 0.7788 - val_fmeasure: 0.8157\n",
      "\n",
      "Epoch 00013: val_acc did not improve from 0.91956\n",
      "Epoch 14/100\n",
      "194/194 [==============================] - 17s 90ms/step - loss: 0.3022 - acc: 0.8779 - precision: 0.8549 - recall: 0.6725 - fmeasure: 0.7428 - val_loss: 0.2766 - val_acc: 0.8831 - val_precision: 0.9369 - val_recall: 0.5747 - val_fmeasure: 0.7044\n",
      "\n",
      "Epoch 00014: val_acc did not improve from 0.91956\n",
      "Epoch 15/100\n",
      "194/194 [==============================] - 17s 90ms/step - loss: 0.3090 - acc: 0.8769 - precision: 0.8573 - recall: 0.6666 - fmeasure: 0.7373 - val_loss: 0.2844 - val_acc: 0.8799 - val_precision: 0.9368 - val_recall: 0.5640 - val_fmeasure: 0.6917\n",
      "\n",
      "Epoch 00015: val_acc did not improve from 0.91956\n"
     ]
    },
    {
     "data": {
      "text/plain": [
       "<keras.callbacks.History at 0x7f9d346a3f28>"
      ]
     },
     "execution_count": 17,
     "metadata": {},
     "output_type": "execute_result"
    }
   ],
   "source": [
    "from keras.callbacks import ModelCheckpoint, TensorBoard, EarlyStopping\n",
    "\n",
    "\n",
    "\n",
    "\n",
    "model_name = \"vgg16_heerlen_batch_norm\"\n",
    "\n",
    "checkpoint_dir = ProjectPaths.instance().checkpoint_dir_for(model_name, batch_size, epochs)\n",
    "if not os.path.exists(checkpoint_dir):\n",
    "    os.mkdir(checkpoint_dir)\n",
    "\n",
    "file_in_checkpoint_dir = ProjectPaths.instance().file_in_checkpoint_dir(model_name, batch_size,\n",
    "                                                                 epochs,  model_name +\n",
    "                                                                 \"__{epoch:02d}_{val_acc:.2f}.hdf5\")\n",
    "\n",
    "early_stopping_callback = EarlyStopping(patience=5)\n",
    "model_checkpoint_callback = ModelCheckpoint(file_in_checkpoint_dir, monitor='val_acc', verbose=True,\n",
    "                                                save_weights_only=True,\n",
    "                                                save_best_only=True)\n",
    "\n",
    "log_dir = os.path.join(ProjectPaths.instance().log_dir, model_name)\n",
    "tensorboard_callback = TensorBoard(log_dir=log_dir, histogram_freq=0,  write_graph=False, write_images=False)\n",
    "\n",
    "\n",
    "model.fit_generator(train_generator,\n",
    "                    steps_per_epoch=len(train_labels) // batch_size, \n",
    "                    epochs=epochs,\n",
    "                    callbacks=[early_stopping_callback, model_checkpoint_callback, tensorboard_callback],\n",
    "                    validation_data=test_generator,\n",
    "                    validation_steps=len(test_labels))"
   ]
  },
  {
   "cell_type": "code",
   "execution_count": 18,
   "metadata": {},
   "outputs": [
    {
     "name": "stdout",
     "output_type": "stream",
     "text": [
      "12432/12432 [==============================] - 5s 417us/step\n",
      "2797/2797 [==============================] - 1s 426us/step\n",
      "311/311 [==============================] - 0s 915us/step\n",
      "       loss       acc  precision    recall  fmeasure\n",
      "0  0.270688  0.882802   0.949191  0.598531  0.725027\n",
      "1  0.284394  0.879871   0.936755  0.564027  0.691702\n",
      "2  0.314213  0.864952   0.986281  0.569581  0.717125\n"
     ]
    }
   ],
   "source": [
    "import pandas as pd\n",
    "\n",
    "train_eval = model.evaluate(train_images, train_labels, batch_size)\n",
    "test_eval = model.evaluate(test_images, test_labels, batch_size)\n",
    "validation_eval = model.evaluate(validation_images, validation_labels, batch_size)\n",
    "\n",
    "np_model_evaluations = np.array([train_eval, test_eval, validation_eval])\n",
    "\n",
    "evaluations = pd.DataFrame(np_model_evaluations, columns=model.metrics_names)\n",
    "print(evaluations.head())"
   ]
  },
  {
   "cell_type": "code",
   "execution_count": 19,
   "metadata": {},
   "outputs": [],
   "source": [
    "import numpy as np\n",
    "import pandas as pd\n",
    "from sklearn.metrics import roc_curve\n",
    "\n",
    "def find_optimal_cutoff(target, predicted):\n",
    "   \"\"\" Find the optimal probability cutoff point for a classification model related to event rate\n",
    "   Parameters\n",
    "   ----------\n",
    "   target : Matrix with dependent or target data, where rows are observations\n",
    "\n",
    "   predicted : Matrix with predicted data, where rows are observations\n",
    "\n",
    "   Returns\n",
    "   -------\n",
    "   list type, with optimal cutoff value\n",
    "\n",
    "   \"\"\"\n",
    "   fpr, tpr, threshold = roc_curve(target, predicted)\n",
    "   i = np.arange(len(tpr))\n",
    "   roc = pd.DataFrame({'tf' : pd.Series(tpr-(1-fpr), index=i), 'threshold' : pd.Series(threshold, index=i)})\n",
    "   roc_t = roc.ix[(roc.tf-0).abs().argsort()[:1]]\n",
    "\n",
    "   return list(roc_t['threshold'])"
   ]
  },
  {
   "cell_type": "code",
   "execution_count": 21,
   "metadata": {},
   "outputs": [],
   "source": [
    "test_predictions = model.predict(test_images, batch_size)"
   ]
  },
  {
   "cell_type": "code",
   "execution_count": 22,
   "metadata": {},
   "outputs": [
    {
     "name": "stderr",
     "output_type": "stream",
     "text": [
      "/usr/lib/python3/dist-packages/ipykernel_launcher.py:21: DeprecationWarning: \n",
      ".ix is deprecated. Please use\n",
      ".loc for label based indexing or\n",
      ".iloc for positional indexing\n",
      "\n",
      "See the documentation here:\n",
      "http://pandas.pydata.org/pandas-docs/stable/indexing.html#ix-indexer-is-deprecated\n"
     ]
    },
    {
     "data": {
      "text/plain": [
       "[0.12273943424224854]"
      ]
     },
     "execution_count": 22,
     "metadata": {},
     "output_type": "execute_result"
    }
   ],
   "source": [
    "cut_off = find_optimal_cutoff(test_labels, test_predictions)\n",
    "cut_off"
   ]
  },
  {
   "cell_type": "code",
   "execution_count": 23,
   "metadata": {},
   "outputs": [
    {
     "data": {
      "text/plain": [
       "array([[1776,  315],\n",
       "       [ 107,  599]])"
      ]
     },
     "execution_count": 23,
     "metadata": {},
     "output_type": "execute_result"
    }
   ],
   "source": [
    "from sklearn.metrics import confusion_matrix\n",
    "\n",
    "predicted_labels = test_predictions > cut_off\n",
    "confusion_matrix(test_labels, predicted_labels)"
   ]
  },
  {
   "cell_type": "code",
   "execution_count": 24,
   "metadata": {},
   "outputs": [
    {
     "name": "stdout",
     "output_type": "stream",
     "text": [
      "             precision    recall  f1-score   support\n",
      "\n",
      "          0       0.94      0.85      0.89      2091\n",
      "          1       0.66      0.85      0.74       706\n",
      "\n",
      "avg / total       0.87      0.85      0.85      2797\n",
      "\n"
     ]
    }
   ],
   "source": [
    "from sklearn.metrics import classification_report\n",
    "\n",
    "print(classification_report(test_labels, predicted_labels))"
   ]
  },
  {
   "cell_type": "code",
   "execution_count": 25,
   "metadata": {},
   "outputs": [],
   "source": [
    "validation_predictions = model.predict(validation_images, batch_size)"
   ]
  },
  {
   "cell_type": "code",
   "execution_count": 26,
   "metadata": {},
   "outputs": [
    {
     "data": {
      "text/plain": [
       "array([[175,  41],\n",
       "       [ 15,  80]])"
      ]
     },
     "execution_count": 26,
     "metadata": {},
     "output_type": "execute_result"
    }
   ],
   "source": [
    "from sklearn.metrics import confusion_matrix\n",
    "\n",
    "predicted_validation_labels = validation_predictions > cut_off\n",
    "confusion_matrix(validation_labels, predicted_validation_labels)"
   ]
  },
  {
   "cell_type": "code",
   "execution_count": 27,
   "metadata": {},
   "outputs": [
    {
     "name": "stdout",
     "output_type": "stream",
     "text": [
      "             precision    recall  f1-score   support\n",
      "\n",
      "          0       0.92      0.81      0.86       216\n",
      "          1       0.66      0.84      0.74        95\n",
      "\n",
      "avg / total       0.84      0.82      0.83       311\n",
      "\n"
     ]
    }
   ],
   "source": [
    "print(classification_report(validation_labels, predicted_validation_labels))"
   ]
  }
 ],
 "metadata": {
  "kernelspec": {
   "display_name": "Python 3",
   "language": "python",
   "name": "python3"
  },
  "language_info": {
   "codemirror_mode": {
    "name": "ipython",
    "version": 3
   },
   "file_extension": ".py",
   "mimetype": "text/x-python",
   "name": "python",
   "nbconvert_exporter": "python",
   "pygments_lexer": "ipython3",
   "version": "3.6.7"
  }
 },
 "nbformat": 4,
 "nbformat_minor": 2
}
