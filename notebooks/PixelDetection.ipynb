{
 "cells": [
  {
   "cell_type": "code",
   "execution_count": 1,
   "metadata": {},
   "outputs": [],
   "source": [
    "import numpy as np\n",
    "import cv2 as cv"
   ]
  },
  {
   "cell_type": "markdown",
   "metadata": {},
   "source": [
    "* normaliseren per dataset (z-score vs 0-1)\n",
    "* normaliseren per plaatje (z-score vs 0-1)\n",
    "* converteren naar grijswaarden plaatje\n",
    "* histogram test-set converteren naar histogram training set\n",
    "* gabor filter\n",
    "* normaliseren per cluster\n",
    "* T-SNE met feature vectors"
   ]
  },
  {
   "cell_type": "code",
   "execution_count": 2,
   "metadata": {},
   "outputs": [],
   "source": [
    "from ProjectPaths import ProjectPaths"
   ]
  },
  {
   "cell_type": "code",
   "execution_count": 3,
   "metadata": {},
   "outputs": [],
   "source": [
    "mask_images = np.load(ProjectPaths.instance().file_in_image_dir(\"ds_image_masks.npy\"))"
   ]
  },
  {
   "cell_type": "code",
   "execution_count": 4,
   "metadata": {},
   "outputs": [
    {
     "data": {
      "text/plain": [
       "(75, 75, 3)"
      ]
     },
     "execution_count": 4,
     "metadata": {},
     "output_type": "execute_result"
    }
   ],
   "source": [
    "images = np.load(ProjectPaths.instance().file_in_image_dir(\"ds_images.npy\"))\n",
    "images[0].shape"
   ]
  },
  {
   "cell_type": "code",
   "execution_count": 5,
   "metadata": {},
   "outputs": [],
   "source": [
    "def avg_image(image):\n",
    "    avg_kernel = np.ones((3,3), dtype=np.float32)\n",
    "    avg_kernel /= 9\n",
    "    return cv.filter2D(image, -1, avg_kernel).reshape(image.shape)"
   ]
  },
  {
   "cell_type": "code",
   "execution_count": 6,
   "metadata": {},
   "outputs": [
    {
     "data": {
      "text/plain": [
       "(75, 75, 3)"
      ]
     },
     "execution_count": 6,
     "metadata": {},
     "output_type": "execute_result"
    }
   ],
   "source": [
    "avg_image(images[0]).shape"
   ]
  },
  {
   "cell_type": "code",
   "execution_count": 7,
   "metadata": {},
   "outputs": [],
   "source": [
    "def window_locations(r = 2, n_channels = 3):\n",
    "    x = [-r, 0, r]\n",
    "    y = [-r, 0, r]\n",
    "    mask = np.zeros((1+2*r,1+2*r))\n",
    "    \n",
    "    for xc in x:\n",
    "        for yc in y:\n",
    "            mask[r + yc, r + xc] = 1.0\n",
    "    return np.tile(mask,(n_channels,1,1)).T\n",
    "    \n",
    "window_mask = window_locations()"
   ]
  },
  {
   "cell_type": "code",
   "execution_count": 8,
   "metadata": {},
   "outputs": [],
   "source": [
    "def number_of_channels(image):\n",
    "    if image.ndim == 3:\n",
    "        return image.shape[2]\n",
    "    return 1"
   ]
  },
  {
   "cell_type": "code",
   "execution_count": 9,
   "metadata": {},
   "outputs": [],
   "source": [
    "def extract_features(image, r=2):\n",
    "    #grab the spatial dimensions of the image, along with\n",
    "    # the spatial dimensions of the kernel\n",
    "    (iH, iW) = image.shape[:2]\n",
    "    \n",
    "    kernel = window_locations(r, number_of_channels(image))\n",
    "    (kH, kW) = kernel.shape[:2]\n",
    "\n",
    "    # allocate memory for the output image, taking care to\n",
    "    # \"pad\" the borders of the input image so the spatial\n",
    "    # size (i.e., width and height) are not reduced\n",
    "    pad = (kW - 1) // 2\n",
    "    image = cv.copyMakeBorder(image, pad, pad, pad, pad, cv.BORDER_REPLICATE)\n",
    "    output = np.zeros((iH, iW, 9 *  number_of_channels(image)), dtype=\"float32\")\n",
    "    # loop over the input image, \"sliding\" the kernel across\n",
    "    # each (x, y)-coordinate from left-to-right and top to\n",
    "    # bottom\n",
    "    for y in np.arange(pad, iH + pad):\n",
    "        for x in np.arange(pad, iW + pad):\n",
    "            # extract the ROI of the image by extracting the\n",
    "            # *center* region of the current (x, y)-coordinates\n",
    "            # dimensions\n",
    "            roi = image[y - pad:y + pad + 1, x - pad:x + pad + 1]\n",
    "\n",
    "            # perform the actual selection by taking the\n",
    "            # element-wise multiplicate between the ROI and\n",
    "            # the kernel\n",
    "            k = (roi * kernel)\n",
    "\n",
    "            # store the convolved value in the output (x,y)-\n",
    "            # coordinate of the output image\n",
    "            output[y - pad, x - pad, :] = k[np.nonzero(kernel)]\n",
    "    \n",
    "    # return the output image\n",
    "    return output"
   ]
  },
  {
   "cell_type": "code",
   "execution_count": 10,
   "metadata": {},
   "outputs": [],
   "source": [
    "from scipy import ndimage\n",
    "\n",
    "def std_image(image):\n",
    "    average = avg_image(image)\n",
    "    x2_min_avg = (image - average) * (image - average);\n",
    "    avg_kernel_3d = np.ones((3, 3, number_of_channels(image)), dtype=np.float32)\n",
    "    avg_kernel_3d /= 9\n",
    "    conv_image = ndimage.convolve(x2_min_avg, avg_kernel_3d, np.float32) \n",
    "    return np.sqrt(conv_image)"
   ]
  },
  {
   "cell_type": "code",
   "execution_count": 11,
   "metadata": {},
   "outputs": [],
   "source": [
    "def normalize_image(image):\n",
    "    return (image - image.min(axis=(0,1))) / (image.max(axis=(0,1)) - image.min(axis=(0,1)))\n",
    "#def normalize_image(image):\n",
    "#    return (image - image.min()) / (image.max() - image.min())\n"
   ]
  },
  {
   "cell_type": "code",
   "execution_count": 12,
   "metadata": {},
   "outputs": [
    {
     "data": {
      "text/plain": [
       "dtype('float32')"
      ]
     },
     "execution_count": 12,
     "metadata": {},
     "output_type": "execute_result"
    }
   ],
   "source": [
    "im_std = images[0]\n",
    "std = std_image(im_std)\n",
    "import matplotlib.pyplot as plt\n",
    "%matplotlib inline\n",
    "\n",
    "std.dtype"
   ]
  },
  {
   "cell_type": "code",
   "execution_count": 13,
   "metadata": {},
   "outputs": [],
   "source": [
    "def get_features(image):\n",
    "    avg = avg_image(image)\n",
    "    std = std_image(image)\n",
    "    \n",
    "    avg_output2 = extract_features(avg)\n",
    "    std_output2 = extract_features(std)\n",
    "    \n",
    "    avg_output4 = extract_features(avg, 4)\n",
    "    std_output4 = extract_features(std, 4)\n",
    "    return np.concatenate((avg_output2, std_output2, avg_output4, std_output4), axis=2)"
   ]
  },
  {
   "cell_type": "code",
   "execution_count": 14,
   "metadata": {},
   "outputs": [],
   "source": [
    "def get_features_for(images):\n",
    "    feature_list = []\n",
    "    for image in images:\n",
    "        feature_list.append(get_features(image))\n",
    "    return np.array(feature_list)"
   ]
  },
  {
   "cell_type": "code",
   "execution_count": 15,
   "metadata": {},
   "outputs": [
    {
     "data": {
      "text/plain": [
       "(120, 75, 75, 108)"
      ]
     },
     "execution_count": 15,
     "metadata": {},
     "output_type": "execute_result"
    }
   ],
   "source": [
    "X = get_features_for(images)\n",
    "X.shape"
   ]
  },
  {
   "cell_type": "code",
   "execution_count": 16,
   "metadata": {},
   "outputs": [
    {
     "data": {
      "text/plain": [
       "(675000, 108)"
      ]
     },
     "execution_count": 16,
     "metadata": {},
     "output_type": "execute_result"
    }
   ],
   "source": [
    "pixel_features = X.reshape(120*75*75, 108)\n",
    "pixel_features.shape"
   ]
  },
  {
   "cell_type": "code",
   "execution_count": 17,
   "metadata": {},
   "outputs": [
    {
     "data": {
      "text/plain": [
       "(675000,)"
      ]
     },
     "execution_count": 17,
     "metadata": {},
     "output_type": "execute_result"
    }
   ],
   "source": [
    "pixel_masks = mask_images.reshape(120*75*75)\n",
    "pixel_masks.shape"
   ]
  },
  {
   "cell_type": "code",
   "execution_count": 18,
   "metadata": {},
   "outputs": [],
   "source": [
    "from sklearn.model_selection import train_test_split\n",
    "\n",
    "X_train, X_test, y_train, y_test = train_test_split(pixel_features, pixel_masks, test_size = 0.20)"
   ]
  },
  {
   "cell_type": "markdown",
   "metadata": {},
   "source": [
    "# Random Forest"
   ]
  },
  {
   "cell_type": "code",
   "execution_count": 19,
   "metadata": {},
   "outputs": [
    {
     "name": "stderr",
     "output_type": "stream",
     "text": [
      "/home/tim/.virtualenvs/cv/lib/python3.6/site-packages/sklearn/ensemble/forest.py:248: FutureWarning: The default value of n_estimators will change from 10 in version 0.20 to 100 in 0.22.\n",
      "  \"10 in version 0.20 to 100 in 0.22.\", FutureWarning)\n"
     ]
    },
    {
     "data": {
      "text/plain": [
       "RandomForestClassifier(bootstrap=True, class_weight=None, criterion='gini',\n",
       "            max_depth=None, max_features='auto', max_leaf_nodes=None,\n",
       "            min_impurity_decrease=0.0, min_impurity_split=None,\n",
       "            min_samples_leaf=1, min_samples_split=2,\n",
       "            min_weight_fraction_leaf=0.0, n_estimators=10, n_jobs=None,\n",
       "            oob_score=False, random_state=None, verbose=0,\n",
       "            warm_start=False)"
      ]
     },
     "execution_count": 19,
     "metadata": {},
     "output_type": "execute_result"
    }
   ],
   "source": [
    "from sklearn.ensemble import RandomForestClassifier\n",
    "\n",
    "\n",
    "clf = RandomForestClassifier()\n",
    "clf.fit(X_train, y_train)"
   ]
  },
  {
   "cell_type": "code",
   "execution_count": 20,
   "metadata": {},
   "outputs": [
    {
     "data": {
      "text/plain": [
       "array([0.03432865, 0.00496871, 0.00922838, 0.02784767, 0.02847469,\n",
       "       0.02535285, 0.00791269, 0.00951823, 0.02678314, 0.02985564,\n",
       "       0.00285198, 0.00547518, 0.07518405, 0.01149558, 0.0393226 ,\n",
       "       0.06008508, 0.00495366, 0.02956441, 0.02689175, 0.00266891,\n",
       "       0.00628452, 0.00750082, 0.00405264, 0.00534424, 0.01193072,\n",
       "       0.00261146, 0.00698698, 0.00363248, 0.00399014, 0.00265272,\n",
       "       0.00513617, 0.00360591, 0.00394446, 0.00331514, 0.00308732,\n",
       "       0.0039094 , 0.0031946 , 0.00301361, 0.00303022, 0.00423837,\n",
       "       0.00331858, 0.00393413, 0.00283391, 0.00270752, 0.00223081,\n",
       "       0.00303975, 0.00225537, 0.00306891, 0.00252382, 0.00209322,\n",
       "       0.00411728, 0.00388626, 0.00256879, 0.00466283, 0.00923069,\n",
       "       0.0062474 , 0.00564402, 0.00636687, 0.01213819, 0.04501372,\n",
       "       0.0071531 , 0.0095615 , 0.02669499, 0.00706095, 0.00330858,\n",
       "       0.00432336, 0.03678783, 0.00661727, 0.01155447, 0.0065028 ,\n",
       "       0.00472619, 0.03312473, 0.00542973, 0.00354649, 0.0042872 ,\n",
       "       0.00509221, 0.0032939 , 0.00557864, 0.01066565, 0.00404472,\n",
       "       0.00349753, 0.00359488, 0.00249813, 0.00310693, 0.00335377,\n",
       "       0.00286243, 0.00586413, 0.00573711, 0.0061153 , 0.00618717,\n",
       "       0.00307755, 0.00314971, 0.00310005, 0.00443617, 0.00529572,\n",
       "       0.00365506, 0.00343017, 0.0042312 , 0.00330803, 0.0029569 ,\n",
       "       0.01557708, 0.00305119, 0.00448034, 0.00412875, 0.00296891,\n",
       "       0.00237454, 0.00331566, 0.00318345])"
      ]
     },
     "execution_count": 20,
     "metadata": {},
     "output_type": "execute_result"
    }
   ],
   "source": [
    "clf.feature_importances_"
   ]
  },
  {
   "cell_type": "code",
   "execution_count": 21,
   "metadata": {},
   "outputs": [],
   "source": [
    "from sklearn.metrics import classification_report, confusion_matrix, accuracy_score\n",
    "\n",
    "def predict(clf, X_test, y_test):\n",
    "    predictions = clf.predict(X_test)\n",
    "    print(classification_report(y_test, predictions))\n",
    "    print(\"accuracy={}\".format(accuracy_score(y_test, predictions)))\n",
    "    print(confusion_matrix(y_test, predictions))"
   ]
  },
  {
   "cell_type": "code",
   "execution_count": 22,
   "metadata": {},
   "outputs": [
    {
     "name": "stdout",
     "output_type": "stream",
     "text": [
      "              precision    recall  f1-score   support\n",
      "\n",
      "           0       0.97      0.98      0.98     91823\n",
      "         255       0.96      0.94      0.95     43177\n",
      "\n",
      "   micro avg       0.97      0.97      0.97    135000\n",
      "   macro avg       0.96      0.96      0.96    135000\n",
      "weighted avg       0.97      0.97      0.97    135000\n",
      "\n",
      "accuracy=0.9666962962962963\n",
      "[[90052  1771]\n",
      " [ 2725 40452]]\n"
     ]
    }
   ],
   "source": [
    "predict(clf, X_test, y_test)"
   ]
  },
  {
   "cell_type": "code",
   "execution_count": 23,
   "metadata": {},
   "outputs": [],
   "source": [
    "im_features = get_features_for([images[-1]])\n",
    "im_features = im_features.reshape(75*75, 108)"
   ]
  },
  {
   "cell_type": "code",
   "execution_count": 24,
   "metadata": {},
   "outputs": [
    {
     "data": {
      "text/plain": [
       "(5625,)"
      ]
     },
     "execution_count": 24,
     "metadata": {},
     "output_type": "execute_result"
    }
   ],
   "source": [
    "im_pred = clf.predict(im_features)\n",
    "im_pred.shape"
   ]
  },
  {
   "cell_type": "code",
   "execution_count": 26,
   "metadata": {},
   "outputs": [
    {
     "data": {
      "text/plain": [
       "<matplotlib.image.AxesImage at 0x7faca05858d0>"
      ]
     },
     "execution_count": 26,
     "metadata": {},
     "output_type": "execute_result"
    },
    {
     "data": {
      "image/png": "[encoded data removed]",
      "text/plain": [
       "<Figure size 432x288 with 1 Axes>"
      ]
     },
     "metadata": {
      "needs_background": "light"
     },
     "output_type": "display_data"
    }
   ],
   "source": [
    "plt.imshow(images[-1][:,:,::-1])"
   ]
  },
  {
   "cell_type": "code",
   "execution_count": 25,
   "metadata": {},
   "outputs": [
    {
     "data": {
      "text/plain": [
       "<matplotlib.image.AxesImage at 0x7faca066f828>"
      ]
     },
     "execution_count": 25,
     "metadata": {},
     "output_type": "execute_result"
    },
    {
     "data": {
      "image/png": "[encoded data removed]",
      "text/plain": [
       "<Figure size 432x288 with 1 Axes>"
      ]
     },
     "metadata": {
      "needs_background": "light"
     },
     "output_type": "display_data"
    }
   ],
   "source": [
    "prediction_image = im_pred.reshape(75, 75)\n",
    "plt.imshow(prediction_image)"
   ]
  },
  {
   "cell_type": "code",
   "execution_count": 27,
   "metadata": {},
   "outputs": [
    {
     "data": {
      "text/plain": [
       "<matplotlib.image.AxesImage at 0x7faca0568c18>"
      ]
     },
     "execution_count": 27,
     "metadata": {},
     "output_type": "execute_result"
    },
    {
     "data": {
      "image/png": "[encoded data removed]",
      "text/plain": [
       "<Figure size 432x288 with 1 Axes>"
      ]
     },
     "metadata": {
      "needs_background": "light"
     },
     "output_type": "display_data"
    }
   ],
   "source": [
    "plt.imshow(images[-1][:,:,::-1])"
   ]
  },
  {
   "cell_type": "code",
   "execution_count": 28,
   "metadata": {},
   "outputs": [],
   "source": [
    "from ProjectPaths import ProjectPaths\n",
    "from Datasets import Datasets\n",
    "\n",
    "\n",
    "ProjectPaths.instance()\n",
    "ac_dataset = Datasets.datasets()[\"AcMüDüHo\"]\n",
    "train = ac_dataset[0].images"
   ]
  },
  {
   "cell_type": "code",
   "execution_count": 29,
   "metadata": {},
   "outputs": [
    {
     "data": {
      "text/plain": [
       "<matplotlib.image.AxesImage at 0x7faca04d0160>"
      ]
     },
     "execution_count": 29,
     "metadata": {},
     "output_type": "execute_result"
    },
    {
     "data": {
      "image/png": "[encoded data removed]",
      "text/plain": [
       "<Figure size 432x288 with 1 Axes>"
      ]
     },
     "metadata": {
      "needs_background": "light"
     },
     "output_type": "display_data"
    }
   ],
   "source": [
    "plt.imshow(train[8][:,:,::-1])"
   ]
  },
  {
   "cell_type": "code",
   "execution_count": 30,
   "metadata": {},
   "outputs": [
    {
     "data": {
      "text/plain": [
       "<matplotlib.image.AxesImage at 0x7faca04ae048>"
      ]
     },
     "execution_count": 30,
     "metadata": {},
     "output_type": "execute_result"
    },
    {
     "data": {
      "image/png": "[encoded data removed]",
      "text/plain": [
       "<Figure size 432x288 with 1 Axes>"
      ]
     },
     "metadata": {
      "needs_background": "light"
     },
     "output_type": "display_data"
    }
   ],
   "source": [
    "im_features2 = get_features_for([train[8]])\n",
    "im_features2 = im_features2.reshape(75*75, 108)\n",
    "\n",
    "im_pred = clf.predict(im_features2)\n",
    "prediction_image = im_pred.reshape(75, 75)\n",
    "\n",
    "plt.imshow(prediction_image)"
   ]
  },
  {
   "cell_type": "markdown",
   "metadata": {},
   "source": [
    "# Logistic Regression"
   ]
  },
  {
   "cell_type": "code",
   "execution_count": 31,
   "metadata": {},
   "outputs": [
    {
     "name": "stderr",
     "output_type": "stream",
     "text": [
      "/home/tim/.virtualenvs/cv/lib/python3.6/site-packages/sklearn/linear_model/logistic.py:757: ConvergenceWarning: lbfgs failed to converge. Increase the number of iterations.\n",
      "  \"of iterations.\", ConvergenceWarning)\n"
     ]
    }
   ],
   "source": [
    "from sklearn.linear_model import LogisticRegression\n",
    "\n",
    "clf = LogisticRegression(random_state=0, solver='lbfgs').fit(X_train, y_train)"
   ]
  },
  {
   "cell_type": "code",
   "execution_count": null,
   "metadata": {},
   "outputs": [],
   "source": [
    "predictions = clf.predict(X_test)\n",
    "print(classification_report(y_test, predictions))"
   ]
  },
  {
   "cell_type": "code",
   "execution_count": null,
   "metadata": {},
   "outputs": [],
   "source": [
    "accuracy_score(y_test, predictions)"
   ]
  },
  {
   "cell_type": "code",
   "execution_count": null,
   "metadata": {},
   "outputs": [],
   "source": [
    "confusion_matrix(y_test, predictions)"
   ]
  },
  {
   "cell_type": "code",
   "execution_count": null,
   "metadata": {},
   "outputs": [],
   "source": [
    "plt.imshow(train[8][:,:,::-1])"
   ]
  },
  {
   "cell_type": "code",
   "execution_count": null,
   "metadata": {},
   "outputs": [],
   "source": [
    "im_features3 = get_features_for([train[8]])\n",
    "im_features3 = im_features3.reshape(75*75, 108)\n",
    "\n",
    "im_pred = clf.predict(im_features3)\n",
    "prediction_image = im_pred.reshape(75, 75)\n",
    "\n",
    "plt.imshow(normalize_image(prediction_image))"
   ]
  },
  {
   "cell_type": "markdown",
   "metadata": {},
   "source": [
    "# PCA"
   ]
  },
  {
   "cell_type": "code",
   "execution_count": null,
   "metadata": {},
   "outputs": [],
   "source": [
    "import math\n",
    "\n",
    "def reorderMatrix(u):\n",
    "    c1 = np.array([1/3 * math.sqrt(3) for _ in range(3)])\n",
    "    c2 = np.array([1, -1, -1] * c1)\n",
    "    c3 = np.array([0, -1/2 * math.sqrt(2), 1/2 * math.sqrt(2)])\n",
    "    v1 = u.dot(c2)\n",
    "    i1 = np.argmax(v1)\n",
    "    v2 = u.dot(c3)\n",
    "    i2 = np.argmax(v2)\n",
    "    if i1 == 2 and i2 == 1:\n",
    "        temp = u[i1]\n",
    "        u[i1] =  u[i2]\n",
    "        u[i2] = temp\n",
    "    return u\n",
    "\n",
    "def flattenImage(rgbImage):\n",
    "    return rgbImage.reshape(rgbImage.shape[0] * rgbImage.shape[1], 3)\n",
    "\n",
    "def imageMean(image):\n",
    "    return (1 / image.size) * np.sum(image)\n",
    "\n",
    "def centerImage(image):\n",
    "    return image - imageMean(image)\n",
    "\n",
    "def imageCovariance(image1, image2):\n",
    "    return (1 / image1.size) * np.dot(centerImage(image1).ravel(), centerImage(image2).ravel())\n",
    "\n",
    "def rgbImageCovarianceMatrix(rgbImage):\n",
    "    covarianceMatrix = np.zeros([3,3])\n",
    "    for r in range(3):\n",
    "        for c in range (3):\n",
    "            covariance = imageCovariance(rgbImage[:,:,r], rgbImage[:,:,c])\n",
    "            covarianceMatrix[r, c] = covariance\n",
    "            covarianceMatrix[c, r] = covariance\n",
    "    return covarianceMatrix\n",
    "\n",
    "def pca(rgbImage):\n",
    "    covarianceMatrix = rgbImageCovarianceMatrix(rgbImage)\n",
    "    return np.linalg.svd(covarianceMatrix)\n",
    "\n",
    "def pcaTransform(rgbImage):\n",
    "    u,s,v = pca(rgbImage)\n",
    "    imageVector = flattenImage(rgbImage)\n",
    "    transposedVector = imageVector.dot(reorderMatrix(u))\n",
    "    return transposedVector.reshape(rgbImage.shape)"
   ]
  },
  {
   "cell_type": "code",
   "execution_count": null,
   "metadata": {},
   "outputs": [],
   "source": [
    "pca_image = pcaTransform(images[0])\n",
    "\n",
    "_, ax = plt.subplots(1,4,figsize=(14,14))\n",
    "ax[0].imshow(images[0])\n",
    "ax[1].imshow(normalize_image(pca_image)[:,:,0])\n",
    "ax[2].imshow(normalize_image(pca_image)[:,:,1])\n",
    "ax[3].imshow(normalize_image(pca_image)[:,:,2])"
   ]
  },
  {
   "cell_type": "code",
   "execution_count": null,
   "metadata": {},
   "outputs": [],
   "source": [
    "pca_images = np.array([pcaTransform(image) for image in images])\n",
    "pca_images.shape"
   ]
  },
  {
   "cell_type": "code",
   "execution_count": null,
   "metadata": {},
   "outputs": [],
   "source": [
    "pca_features = get_features_for(pca_images)\n",
    "pca_pixel_features = pca_features.reshape(120*75*75, 108)\n",
    "pca_pixel_features.shape"
   ]
  },
  {
   "cell_type": "code",
   "execution_count": null,
   "metadata": {},
   "outputs": [],
   "source": [
    "pca_X_train, pca_X_test, pca_y_train, pca_y_test = train_test_split(pca_pixel_features, pixel_masks, test_size = 0.20)"
   ]
  },
  {
   "cell_type": "code",
   "execution_count": null,
   "metadata": {},
   "outputs": [],
   "source": [
    "from sklearn.ensemble import RandomForestClassifier\n",
    "\n",
    "clf = RandomForestClassifier()\n",
    "clf.fit(pca_X_train, pca_y_train)"
   ]
  },
  {
   "cell_type": "code",
   "execution_count": null,
   "metadata": {},
   "outputs": [],
   "source": [
    "predict(clf, pca_X_test, pca_y_test)"
   ]
  },
  {
   "cell_type": "code",
   "execution_count": null,
   "metadata": {},
   "outputs": [],
   "source": [
    "from sklearn.decomposition import PCA\n",
    "\n",
    "X = images[0].reshape(75*75,3)\n",
    "\n",
    "pca = PCA()\n",
    "pca.fit(X)"
   ]
  },
  {
   "cell_type": "code",
   "execution_count": null,
   "metadata": {},
   "outputs": [],
   "source": [
    "pca.explained_variance_"
   ]
  },
  {
   "cell_type": "code",
   "execution_count": null,
   "metadata": {},
   "outputs": [],
   "source": [
    "im_pca = pca.transform(X).reshape(75,75,3)\n",
    "\n",
    "_, ax = plt.subplots(1,4,figsize=(14,14))\n",
    "ax[0].imshow(images[0][:,:,::-1])\n",
    "ax[1].imshow(normalize_image(im_pca)[:,:,0], cmap='gray')\n",
    "ax[2].imshow(normalize_image(im_pca)[:,:,1], cmap='gray')\n",
    "ax[3].imshow(normalize_image(im_pca)[:,:,2], cmap='gray')"
   ]
  },
  {
   "cell_type": "code",
   "execution_count": null,
   "metadata": {},
   "outputs": [],
   "source": [
    "def pca_transform(image):\n",
    "    X = image.reshape(image.shape[0]*image.shape[1], image.shape[2])\n",
    "    pca = PCA()\n",
    "    pca.fit(X)\n",
    "    return pca.transform(X).reshape(image.shape)\n",
    "\n",
    "ac_pca_images = np.array([pca_transform(image) for image in ac_dataset[0].images])\n",
    "ac_pca_images.shape"
   ]
  },
  {
   "cell_type": "code",
   "execution_count": null,
   "metadata": {},
   "outputs": [],
   "source": [
    "ac_pca_features = get_features_for(ac_pca_images[:120])\n",
    "ac_pca_pixel_features = ac_pca_features.reshape(120*75*75, 108)\n",
    "ac_pca_pixel_features.shape"
   ]
  },
  {
   "cell_type": "code",
   "execution_count": null,
   "metadata": {},
   "outputs": [],
   "source": [
    "ac_dataset[0].labels"
   ]
  },
  {
   "cell_type": "code",
   "execution_count": null,
   "metadata": {},
   "outputs": [],
   "source": [
    "_, ax = plt.subplots(4,4, figsize=(14,14))\n",
    "\n",
    "i = 0\n",
    "for r in range(4):\n",
    "    for c in range(4):\n",
    "        ax[r,c].imshow(normalize_image(ac_pca_images[i]))\n",
    "        i += 1"
   ]
  },
  {
   "cell_type": "code",
   "execution_count": null,
   "metadata": {
    "scrolled": true
   },
   "outputs": [],
   "source": [
    "im_pred = clf.predict(ac_pca_pixel_features)\n",
    "prediction_images = im_pred.reshape(120, 75, 75)\n",
    "\n",
    "_, ax = plt.subplots(4,4, figsize=(14,14))\n",
    "\n",
    "i = 0\n",
    "for r in range(4):\n",
    "    for c in range(4):\n",
    "        ax[r,c].imshow(prediction_images[i])\n",
    "        i += 1"
   ]
  },
  {
   "cell_type": "markdown",
   "metadata": {},
   "source": [
    "# Normalization"
   ]
  },
  {
   "cell_type": "code",
   "execution_count": null,
   "metadata": {},
   "outputs": [],
   "source": [
    "image = images[0]\n",
    "mean_per_channel = np.mean(image, axis = (0,1))    \n",
    "mean_per_channel = np.ones((75,75,3)) * mean_per_channel"
   ]
  },
  {
   "cell_type": "code",
   "execution_count": null,
   "metadata": {},
   "outputs": [],
   "source": [
    "mean_substracted_image = images[0] - mean_per_channel\n",
    "mean_substracted_image "
   ]
  },
  {
   "cell_type": "code",
   "execution_count": null,
   "metadata": {},
   "outputs": [],
   "source": [
    "std_per_channel = np.std(image, axis = (0,1))\n",
    "std_per_channel = np.ones((75,75,3)) * std_per_channel\n",
    "std_per_channel"
   ]
  },
  {
   "cell_type": "code",
   "execution_count": null,
   "metadata": {},
   "outputs": [],
   "source": [
    "normalized_image = mean_substracted_image / std_per_channel\n",
    "normalized_image.min(), normalized_image.max()"
   ]
  },
  {
   "cell_type": "code",
   "execution_count": null,
   "metadata": {},
   "outputs": [],
   "source": [
    "def z_normalize_image(image):\n",
    "    mean_per_channel = np.mean(image, axis = (0,1))    \n",
    "    mean_per_channel = np.ones((75,75,3)) * mean_per_channel\n",
    "    mean_substracted_image = images[0] - mean_per_channel\n",
    "    std_per_channel = np.std(image, axis = (0,1))\n",
    "    std_per_channel = np.ones((75,75,3)) * std_per_channel\n",
    "    return mean_substracted_image / std_per_channel"
   ]
  },
  {
   "cell_type": "code",
   "execution_count": null,
   "metadata": {},
   "outputs": [],
   "source": [
    "z_image = z_normalize_image(images[0])\n",
    "plt.imshow(normalize_image(z_image))"
   ]
  },
  {
   "cell_type": "code",
   "execution_count": null,
   "metadata": {},
   "outputs": [],
   "source": [
    "sums = image.sum(axis=2).reshape(image.shape[0], image.shape[1], 1).repeat(axis=2, repeats=3)\n",
    "sums.shape, sums[0:2,0:2,0], sums[0:2,0:2,1], sums[0:2,0:2,2]"
   ]
  },
  {
   "cell_type": "code",
   "execution_count": null,
   "metadata": {},
   "outputs": [],
   "source": [
    "n_image = image / sums\n",
    "\n",
    "_, ax = plt.subplots(1,2)\n",
    "ax[0].imshow(image)\n",
    "ax[1].imshow(n_image)"
   ]
  },
  {
   "cell_type": "code",
   "execution_count": null,
   "metadata": {},
   "outputs": [],
   "source": [
    "n_image.min(), n_image.max()"
   ]
  },
  {
   "cell_type": "code",
   "execution_count": 65,
   "metadata": {},
   "outputs": [],
   "source": [
    "def rgb_norm(image):\n",
    "    sums = image.sum(axis=2).reshape(image.shape[0], image.shape[1], 1).repeat(axis=2, repeats=3)\n",
    "    return image / sums"
   ]
  },
  {
   "cell_type": "code",
   "execution_count": null,
   "metadata": {},
   "outputs": [],
   "source": [
    "_, ax = plt.subplots(4,4, figsize=(14,14))\n",
    "\n",
    "i = 0\n",
    "for r in range(4):\n",
    "    for c in range(4):\n",
    "        ax[r,c].imshow(normalize_image(rgb_norm(images[i]))[:,:,::-1])\n",
    "        i += 1"
   ]
  },
  {
   "cell_type": "code",
   "execution_count": null,
   "metadata": {},
   "outputs": [],
   "source": [
    "_, ax = plt.subplots(4,4, figsize=(14,14))\n",
    "\n",
    "positives = train[ac_dataset[0].labels == 1]\n",
    "\n",
    "i = 0\n",
    "for r in range(4):\n",
    "    for c in range(4):\n",
    "        ax[r,c].imshow(normalize_image(rgb_norm(positives[i]))[:,:,::-1])\n",
    "        i += 1"
   ]
  },
  {
   "cell_type": "code",
   "execution_count": null,
   "metadata": {},
   "outputs": [],
   "source": [
    "_, ax = plt.subplots(4,4, figsize=(14,14))\n",
    "\n",
    "i = 0\n",
    "for r in range(4):\n",
    "    for c in range(4):\n",
    "        ax[r,c].imshow(images[i][:,:,0], cmap=\"gray\")\n",
    "        i += 1"
   ]
  },
  {
   "cell_type": "code",
   "execution_count": null,
   "metadata": {},
   "outputs": [],
   "source": [
    "_, ax = plt.subplots(4,4, figsize=(14,14))\n",
    "\n",
    "i = 0\n",
    "for r in range(4):\n",
    "    for c in range(4):\n",
    "        ax[r,c].imshow(train[i][:,:,0], cmap=\"gray\")\n",
    "        i += 1"
   ]
  },
  {
   "cell_type": "markdown",
   "metadata": {},
   "source": [
    "# To Normalized RGB"
   ]
  },
  {
   "cell_type": "code",
   "execution_count": 66,
   "metadata": {},
   "outputs": [
    {
     "data": {
      "text/plain": [
       "(120, 75, 75, 3)"
      ]
     },
     "execution_count": 66,
     "metadata": {},
     "output_type": "execute_result"
    }
   ],
   "source": [
    "norm_rgb_images = np.array([normalize_image(rgb_norm(image)) for image in images])\n",
    "norm_rgb_images.shape"
   ]
  },
  {
   "cell_type": "code",
   "execution_count": 67,
   "metadata": {},
   "outputs": [
    {
     "data": {
      "text/plain": [
       "(120, 75, 75, 108)"
      ]
     },
     "execution_count": 67,
     "metadata": {},
     "output_type": "execute_result"
    }
   ],
   "source": [
    "norm_rgb_features = get_features_for(norm_rgb_images)\n",
    "norm_rgb_features.shape"
   ]
  },
  {
   "cell_type": "code",
   "execution_count": 68,
   "metadata": {},
   "outputs": [
    {
     "data": {
      "text/plain": [
       "(675000, 108)"
      ]
     },
     "execution_count": 68,
     "metadata": {},
     "output_type": "execute_result"
    }
   ],
   "source": [
    "norm_pixel_features = norm_rgb_features.reshape(120*75*75, 108)\n",
    "norm_pixel_features.shape"
   ]
  },
  {
   "cell_type": "code",
   "execution_count": 69,
   "metadata": {},
   "outputs": [],
   "source": [
    "from sklearn.model_selection import train_test_split\n",
    "\n",
    "X_train, X_test, y_train, y_test = train_test_split(norm_pixel_features, pixel_masks, test_size = 0.20)"
   ]
  },
  {
   "cell_type": "code",
   "execution_count": 70,
   "metadata": {},
   "outputs": [
    {
     "name": "stderr",
     "output_type": "stream",
     "text": [
      "/home/tim/.virtualenvs/cv/lib/python3.6/site-packages/sklearn/ensemble/forest.py:248: FutureWarning: The default value of n_estimators will change from 10 in version 0.20 to 100 in 0.22.\n",
      "  \"10 in version 0.20 to 100 in 0.22.\", FutureWarning)\n"
     ]
    },
    {
     "data": {
      "text/plain": [
       "RandomForestClassifier(bootstrap=True, class_weight=None, criterion='gini',\n",
       "            max_depth=None, max_features='auto', max_leaf_nodes=None,\n",
       "            min_impurity_decrease=0.0, min_impurity_split=None,\n",
       "            min_samples_leaf=1, min_samples_split=2,\n",
       "            min_weight_fraction_leaf=0.0, n_estimators=10, n_jobs=None,\n",
       "            oob_score=False, random_state=None, verbose=0,\n",
       "            warm_start=False)"
      ]
     },
     "execution_count": 70,
     "metadata": {},
     "output_type": "execute_result"
    }
   ],
   "source": [
    "from sklearn.ensemble import RandomForestClassifier\n",
    "\n",
    "\n",
    "clf = RandomForestClassifier()\n",
    "clf.fit(X_train, y_train)"
   ]
  },
  {
   "cell_type": "code",
   "execution_count": 71,
   "metadata": {},
   "outputs": [
    {
     "name": "stdout",
     "output_type": "stream",
     "text": [
      "              precision    recall  f1-score   support\n",
      "\n",
      "           0       0.96      0.98      0.97     91877\n",
      "         255       0.96      0.91      0.93     43123\n",
      "\n",
      "   micro avg       0.96      0.96      0.96    135000\n",
      "   macro avg       0.96      0.95      0.95    135000\n",
      "weighted avg       0.96      0.96      0.96    135000\n",
      "\n",
      "accuracy=0.9589481481481481\n",
      "[[90206  1671]\n",
      " [ 3871 39252]]\n"
     ]
    }
   ],
   "source": [
    "predict(clf, X_test, y_test)"
   ]
  },
  {
   "cell_type": "code",
   "execution_count": null,
   "metadata": {},
   "outputs": [],
   "source": [
    "def predict_image(clf, image):\n",
    "    im_features = get_features_for([image])\n",
    "    im_features = im_features.reshape(75*75, 108)\n",
    "\n",
    "    im_pred = clf.predict(im_features)\n",
    "    return im_pred.reshape(75, 75)"
   ]
  },
  {
   "cell_type": "code",
   "execution_count": null,
   "metadata": {},
   "outputs": [],
   "source": [
    "img = images[1]\n",
    "\n",
    "prediction_image = predict_image(clf, normalize_image(rgb_norm(img)))\n",
    "\n",
    "_, ax = plt.subplots(1,3, figsize=(10,10))\n",
    "ax[0].imshow(img[:,:,::-1])\n",
    "ax[1].imshow(normalize_image(rgb_norm(img))[:,:,::-1])\n",
    "ax[2].imshow(normalize_image(prediction_image))"
   ]
  },
  {
   "cell_type": "code",
   "execution_count": null,
   "metadata": {},
   "outputs": [],
   "source": [
    "img = positives[0]\n",
    "\n",
    "prediction_image = predict_image(clf, normalize_image(rgb_norm(img)))\n",
    "\n",
    "_, ax = plt.subplots(1,3, figsize=(10,10))\n",
    "ax[0].imshow(img[:,:,::-1])\n",
    "ax[1].imshow(rgb_norm(img)[:,:,::-1])\n",
    "ax[2].imshow(normalize_image(prediction_image))"
   ]
  },
  {
   "cell_type": "markdown",
   "metadata": {},
   "source": [
    "# To grayscale"
   ]
  },
  {
   "cell_type": "code",
   "execution_count": 22,
   "metadata": {},
   "outputs": [
    {
     "data": {
      "text/plain": [
       "(120, 75, 75, 3)"
      ]
     },
     "execution_count": 22,
     "metadata": {},
     "output_type": "execute_result"
    }
   ],
   "source": [
    "images.shape"
   ]
  },
  {
   "cell_type": "code",
   "execution_count": 23,
   "metadata": {},
   "outputs": [
    {
     "data": {
      "text/plain": [
       "(120, 75, 75, 1)"
      ]
     },
     "execution_count": 23,
     "metadata": {},
     "output_type": "execute_result"
    }
   ],
   "source": [
    "gray_images = np.array([cv.cvtColor(image, cv.COLOR_BGR2GRAY).reshape(image.shape[0], image.shape[1], 1) for image in images])\n",
    "gray_images.shape"
   ]
  },
  {
   "cell_type": "code",
   "execution_count": 24,
   "metadata": {},
   "outputs": [
    {
     "data": {
      "text/plain": [
       "<matplotlib.image.AxesImage at 0x7f43da865828>"
      ]
     },
     "execution_count": 24,
     "metadata": {},
     "output_type": "execute_result"
    },
    {
     "data": {
      "image/png": "[encoded data removed]",
      "text/plain": [
       "<Figure size 432x288 with 1 Axes>"
      ]
     },
     "metadata": {
      "needs_background": "light"
     },
     "output_type": "display_data"
    }
   ],
   "source": [
    "plt.imshow(gray_images[1][:,:, 0], cmap='gray')"
   ]
  },
  {
   "cell_type": "code",
   "execution_count": 50,
   "metadata": {},
   "outputs": [
    {
     "data": {
      "text/plain": [
       "(120, 75, 75, 36)"
      ]
     },
     "execution_count": 50,
     "metadata": {},
     "output_type": "execute_result"
    }
   ],
   "source": [
    "gray_features = get_features_for(gray_images)\n",
    "gray_features.shape"
   ]
  },
  {
   "cell_type": "code",
   "execution_count": 51,
   "metadata": {},
   "outputs": [
    {
     "data": {
      "text/plain": [
       "(675000, 36)"
      ]
     },
     "execution_count": 51,
     "metadata": {},
     "output_type": "execute_result"
    }
   ],
   "source": [
    "gray_pixel_features = gray_features.reshape(120*75*75, gray_features.shape[-1])\n",
    "gray_pixel_features.shape"
   ]
  },
  {
   "cell_type": "code",
   "execution_count": 59,
   "metadata": {},
   "outputs": [],
   "source": [
    "from sklearn.model_selection import train_test_split\n",
    "\n",
    "X_train, X_test, y_train, y_test = train_test_split(gray_pixel_features, pixel_masks, test_size = 0.20)"
   ]
  },
  {
   "cell_type": "code",
   "execution_count": 60,
   "metadata": {},
   "outputs": [
    {
     "name": "stderr",
     "output_type": "stream",
     "text": [
      "/home/tim/.virtualenvs/cv/lib/python3.6/site-packages/sklearn/ensemble/forest.py:248: FutureWarning: The default value of n_estimators will change from 10 in version 0.20 to 100 in 0.22.\n",
      "  \"10 in version 0.20 to 100 in 0.22.\", FutureWarning)\n"
     ]
    },
    {
     "data": {
      "text/plain": [
       "RandomForestClassifier(bootstrap=True, class_weight=None, criterion='gini',\n",
       "            max_depth=None, max_features='auto', max_leaf_nodes=None,\n",
       "            min_impurity_decrease=0.0, min_impurity_split=None,\n",
       "            min_samples_leaf=1, min_samples_split=2,\n",
       "            min_weight_fraction_leaf=0.0, n_estimators=10, n_jobs=None,\n",
       "            oob_score=False, random_state=None, verbose=0,\n",
       "            warm_start=False)"
      ]
     },
     "execution_count": 60,
     "metadata": {},
     "output_type": "execute_result"
    }
   ],
   "source": [
    "from sklearn.ensemble import RandomForestClassifier\n",
    "\n",
    "\n",
    "clf = RandomForestClassifier()\n",
    "clf.fit(X_train, y_train)"
   ]
  },
  {
   "cell_type": "code",
   "execution_count": 61,
   "metadata": {},
   "outputs": [
    {
     "name": "stdout",
     "output_type": "stream",
     "text": [
      "              precision    recall  f1-score   support\n",
      "\n",
      "           0       0.94      0.96      0.95     92156\n",
      "         255       0.91      0.86      0.88     42844\n",
      "\n",
      "   micro avg       0.93      0.93      0.93    135000\n",
      "   macro avg       0.92      0.91      0.92    135000\n",
      "weighted avg       0.93      0.93      0.93    135000\n",
      "\n",
      "accuracy=0.9285481481481481\n",
      "[[88613  3543]\n",
      " [ 6103 36741]]\n"
     ]
    }
   ],
   "source": [
    "predict(clf, X_test, y_test)"
   ]
  },
  {
   "cell_type": "code",
   "execution_count": 62,
   "metadata": {},
   "outputs": [],
   "source": [
    "ac_gray_images = np.array([cv.cvtColor(image.astype(np.float32), cv.COLOR_BGR2GRAY).reshape(image.shape[0], image.shape[1], 1) for image in train[0:50]])"
   ]
  },
  {
   "cell_type": "code",
   "execution_count": 63,
   "metadata": {},
   "outputs": [
    {
     "data": {
      "text/plain": [
       "<matplotlib.image.AxesImage at 0x7f4391e177b8>"
      ]
     },
     "execution_count": 63,
     "metadata": {},
     "output_type": "execute_result"
    },
    {
     "data": {
      "image/png": "[encoded data removed]",
      "text/plain": [
       "<Figure size 432x288 with 1 Axes>"
      ]
     },
     "metadata": {
      "needs_background": "light"
     },
     "output_type": "display_data"
    }
   ],
   "source": [
    "ac_im_features = get_features_for([ac_gray_images[8]])\n",
    "ac_im_features = ac_im_features.reshape(75*75, 36)\n",
    "\n",
    "im_pred = clf.predict(ac_im_features)\n",
    "prediction_image = im_pred.reshape(75, 75)\n",
    "\n",
    "plt.imshow(prediction_image)"
   ]
  }
 ],
 "metadata": {
  "kernelspec": {
   "display_name": "Python 3",
   "language": "python",
   "name": "python3"
  },
  "language_info": {
   "codemirror_mode": {
    "name": "ipython",
    "version": 3
   },
   "file_extension": ".py",
   "mimetype": "text/x-python",
   "name": "python",
   "nbconvert_exporter": "python",
   "pygments_lexer": "ipython3",
   "version": "3.6.7"
  }
 },
 "nbformat": 4,
 "nbformat_minor": 2
}
